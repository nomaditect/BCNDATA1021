{
 "cells": [
  {
   "cell_type": "markdown",
   "id": "dfa4cdc9",
   "metadata": {
    "toc": true
   },
   "source": [
    "<h1>Index<span class=\"tocSkip\"></span></h1>\n",
    "<div class=\"toc\"><ul class=\"toc-item\"><li><span><a href=\"#Spotify-Developer-Account\" data-toc-modified-id=\"Spotify-Developer-Account-1\"><span class=\"toc-item-num\">1&nbsp;&nbsp;</span>Spotify Developer Account</a></span><ul class=\"toc-item\"><li><span><a href=\"#Log-in-or-your-user-account\" data-toc-modified-id=\"Log-in-or-your-user-account-1.1\"><span class=\"toc-item-num\">1.1&nbsp;&nbsp;</span>Log in or your user account</a></span></li><li><span><a href=\"#Create-an-App\" data-toc-modified-id=\"Create-an-App-1.2\"><span class=\"toc-item-num\">1.2&nbsp;&nbsp;</span>Create an App</a></span></li><li><span><a href=\"#Client-ID-and-Client-Secret\" data-toc-modified-id=\"Client-ID-and-Client-Secret-1.3\"><span class=\"toc-item-num\">1.3&nbsp;&nbsp;</span>Client ID and Client Secret</a></span></li></ul></li><li><span><a href=\"#Connect-with-Jupyter-Notebook\" data-toc-modified-id=\"Connect-with-Jupyter-Notebook-2\"><span class=\"toc-item-num\">2&nbsp;&nbsp;</span>Connect with Jupyter Notebook</a></span><ul class=\"toc-item\"><li><span><a href=\"#Step-1:-Install-Spotipy\" data-toc-modified-id=\"Step-1:-Install-Spotipy-2.1\"><span class=\"toc-item-num\">2.1&nbsp;&nbsp;</span>Step 1: Install Spotipy</a></span></li></ul></li><li><span><a href=\"#Simple-examples-of-use----more-during-the-lesson\" data-toc-modified-id=\"Simple-examples-of-use----more-during-the-lesson-3\"><span class=\"toc-item-num\">3&nbsp;&nbsp;</span>Simple examples of use -- more during the lesson</a></span></li><li><span><a href=\"#Exploring-Spotify-Web-API-resources\" data-toc-modified-id=\"Exploring-Spotify-Web-API-resources-4\"><span class=\"toc-item-num\">4&nbsp;&nbsp;</span>Exploring Spotify Web API resources</a></span></li></ul></div>"
   ]
  },
  {
   "cell_type": "markdown",
   "id": "20405567",
   "metadata": {},
   "source": [
    "# Connecting Python to Spotify with Spotipy"
   ]
  },
  {
   "cell_type": "markdown",
   "id": "b19308a6",
   "metadata": {},
   "source": [
    "## Spotify Developer Account"
   ]
  },
  {
   "cell_type": "markdown",
   "id": "5e03e3bf",
   "metadata": {},
   "source": [
    "### Log in or your user account"
   ]
  },
  {
   "cell_type": "markdown",
   "id": "bddb7b6b",
   "metadata": {},
   "source": [
    "Go to [Spotify for Developers](https://developer.spotify.com/dashboard/) and log in."
   ]
  },
  {
   "cell_type": "markdown",
   "id": "afb41f9f",
   "metadata": {},
   "source": [
    "<img src=\"developers_log_in_2.png\">"
   ]
  },
  {
   "cell_type": "markdown",
   "id": "6ecfdb17",
   "metadata": {},
   "source": [
    "### Create an App"
   ]
  },
  {
   "cell_type": "markdown",
   "id": "46b3d42e",
   "metadata": {},
   "source": [
    "You will need to accept the _Spotify Developer Terms of Service_, sorry. Next you will see **your Dashboard** and it is probably empty so let's create an app."
   ]
  },
  {
   "cell_type": "markdown",
   "id": "e600e873",
   "metadata": {},
   "source": [
    "<img src=\"dashboard_1.png\">"
   ]
  },
  {
   "cell_type": "markdown",
   "id": "f2053c3a",
   "metadata": {},
   "source": [
    "Choose a name for your app (whatever you want). This is just the name of the space for the API to follow your activity for this 'scraping' project. You can create more than one or use always the same."
   ]
  },
  {
   "cell_type": "markdown",
   "id": "19d4a85d",
   "metadata": {},
   "source": [
    "<img src=\"dashboard_app.png\">"
   ]
  },
  {
   "cell_type": "markdown",
   "id": "11506893",
   "metadata": {},
   "source": [
    "### Client ID and Client Secret"
   ]
  },
  {
   "cell_type": "markdown",
   "id": "8b29bc36",
   "metadata": {},
   "source": [
    "Credentials:\n",
    "- Client ID\n",
    "- Client Secret (click on top to see the 'password', keep it safe)"
   ]
  },
  {
   "cell_type": "markdown",
   "id": "cb7beed0",
   "metadata": {},
   "source": [
    "<img src=\"dashboard_app_inside.png\">"
   ]
  },
  {
   "cell_type": "markdown",
   "id": "ffb5070e",
   "metadata": {},
   "source": [
    "## Connect with Jupyter Notebook"
   ]
  },
  {
   "cell_type": "markdown",
   "id": "00986522",
   "metadata": {},
   "source": [
    "### Step 1: Install Spotipy\n",
    "\n",
    "Run the code below in your terminal or a Jupyter Notebook (if you run the code in the notebook don't  forget ! before the line) to install Spotipy.\n",
    "\n",
    "`pip install spotipy`\n",
    "\n",
    "`conda install -c conda-forge spotipy`"
   ]
  },
  {
   "cell_type": "code",
   "execution_count": 67,
   "id": "47f0e15e",
   "metadata": {},
   "outputs": [],
   "source": [
    "import spotipy # install if needed\n",
    "from spotipy.oauth2 import SpotifyClientCredentials\n",
    "import getpass"
   ]
  },
  {
   "cell_type": "code",
   "execution_count": 68,
   "id": "0188441f",
   "metadata": {},
   "outputs": [
    {
     "name": "stdout",
     "output_type": "stream",
     "text": [
      "client_id?········\n",
      "client_secret?········\n"
     ]
    }
   ],
   "source": [
    "client_id = str(getpass.getpass('client_id?'))\n",
    "client_secret = str(getpass.getpass('client_secret?'))"
   ]
  },
  {
   "cell_type": "code",
   "execution_count": 69,
   "id": "1668b999",
   "metadata": {},
   "outputs": [],
   "source": [
    "client_credentials_manager = SpotifyClientCredentials(client_id, client_secret)\n",
    "sp = spotipy.Spotify(client_credentials_manager = client_credentials_manager)"
   ]
  },
  {
   "cell_type": "markdown",
   "id": "a9cc9113",
   "metadata": {},
   "source": [
    "## Simple examples of use -- more during the lesson"
   ]
  },
  {
   "cell_type": "markdown",
   "id": "c39cbbad",
   "metadata": {},
   "source": [
    "The id used is from this [Oldies but Goldies](https://open.spotify.com/playlist/37i9dQZF1DXdmXczhgY3oW) Playlist."
   ]
  },
  {
   "cell_type": "code",
   "execution_count": 70,
   "id": "6bc98ca9",
   "metadata": {
    "scrolled": true
   },
   "outputs": [],
   "source": [
    "playlist = sp.user_playlist_tracks(\"spotify\", \"37i9dQZF1DXdmXczhgY3oW\")"
   ]
  },
  {
   "cell_type": "code",
   "execution_count": 71,
   "id": "b0fbca9f",
   "metadata": {},
   "outputs": [],
   "source": [
    "songs = []\n",
    "for item in playlist['items']:\n",
    "    songs.append(item['track']['id'])"
   ]
  },
  {
   "cell_type": "code",
   "execution_count": 72,
   "id": "0ab41b76",
   "metadata": {},
   "outputs": [
    {
     "data": {
      "text/plain": [
       "['2aIOTkgPOLwCQgTfzdE82d', '7ePFDzrnLt3Ynqgy2UFWri', '65jrjEhWfAvysKfnojk1i0']"
      ]
     },
     "execution_count": 72,
     "metadata": {},
     "output_type": "execute_result"
    }
   ],
   "source": [
    "songs[:3] # spotify id per song"
   ]
  },
  {
   "cell_type": "markdown",
   "id": "d5d5845e",
   "metadata": {},
   "source": [
    "Function from [How to Extract Data using Spotify’s API, Python and Spotipy](https://morioh.com/p/31b8a607b2b0):"
   ]
  },
  {
   "cell_type": "code",
   "execution_count": 73,
   "id": "cab70863",
   "metadata": {},
   "outputs": [],
   "source": [
    "def getTrackFeatures(id):\n",
    "  info = sp.track(id)\n",
    "\n",
    "  name = info['name']\n",
    "  album = info['album']['name']\n",
    "  artist = info['album']['artists'][0]['name']\n",
    "  release_date = info['album']['release_date']\n",
    "  length = info['duration_ms']\n",
    "  popularity = info['popularity']\n",
    "\n",
    "  track = [name, album, artist, release_date, length, popularity]\n",
    "  return track"
   ]
  },
  {
   "cell_type": "code",
   "execution_count": 75,
   "id": "5c76c6a4",
   "metadata": {},
   "outputs": [
    {
     "data": {
      "text/plain": [
       "[\"I Can't Help Myself (Sugar Pie, Honey Bunch)\",\n",
       " 'The Ultimate Collection: Four Tops',\n",
       " 'Four Tops',\n",
       " '1997-01-01',\n",
       " 165866,\n",
       " 0]"
      ]
     },
     "execution_count": 75,
     "metadata": {},
     "output_type": "execute_result"
    }
   ],
   "source": [
    "getTrackFeatures('2aIOTkgPOLwCQgTfzdE82d') # first song of the playlist"
   ]
  },
  {
   "cell_type": "markdown",
   "id": "af6a5c3d",
   "metadata": {},
   "source": [
    "## Exploring Spotify Web API resources"
   ]
  },
  {
   "cell_type": "markdown",
   "id": "a10ca476",
   "metadata": {},
   "source": [
    "- [Web API](https://developer.spotify.com/documentation/web-api/)\n",
    "- [Working with Playlists](https://developer.spotify.com/documentation/general/guides/working-with-playlists/)"
   ]
  }
 ],
 "metadata": {
  "kernelspec": {
   "display_name": "Python 3",
   "language": "python",
   "name": "python3"
  },
  "language_info": {
   "codemirror_mode": {
    "name": "ipython",
    "version": 3
   },
   "file_extension": ".py",
   "mimetype": "text/x-python",
   "name": "python",
   "nbconvert_exporter": "python",
   "pygments_lexer": "ipython3",
   "version": "3.8.10"
  },
  "toc": {
   "base_numbering": 1,
   "nav_menu": {},
   "number_sections": true,
   "sideBar": false,
   "skip_h1_title": true,
   "title_cell": "Index",
   "title_sidebar": "Contents",
   "toc_cell": true,
   "toc_position": {},
   "toc_section_display": false,
   "toc_window_display": true
  }
 },
 "nbformat": 4,
 "nbformat_minor": 5
}
