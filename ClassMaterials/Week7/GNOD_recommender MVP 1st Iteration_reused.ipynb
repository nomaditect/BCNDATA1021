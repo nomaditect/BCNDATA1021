{
 "cells": [
  {
   "cell_type": "code",
   "execution_count": 10,
   "id": "c0dd477c",
   "metadata": {},
   "outputs": [],
   "source": [
    "from random import randint"
   ]
  },
  {
   "cell_type": "code",
   "execution_count": 11,
   "id": "f1ef1f96",
   "metadata": {},
   "outputs": [],
   "source": [
    "def billboard_scraper_new():\n",
    "    #import libraries\n",
    "    import requests\n",
    "    from bs4 import BeautifulSoup\n",
    "    import pandas as pd\n",
    "    from tqdm.notebook import tqdm\n",
    "    \n",
    "    #set parameters \n",
    "    url = \"https://www.billboard.com/charts/hot-100\"\n",
    "    response = requests.get(url)\n",
    "    response.status_code\n",
    "    \n",
    "    #create soup\n",
    "    soup = BeautifulSoup(response.content, 'html.parser')\n",
    "    \n",
    "    #populate lists with parsed content\n",
    "    song = []\n",
    "    artist = []\n",
    "    rank = []\n",
    "\n",
    "    len_charts = len(soup.select('.c-title.a-no-trucate'))\n",
    "    \n",
    "    for i in tqdm(range(len_charts)):\n",
    "        song.append(soup.select('.c-title.a-no-trucate')[i].text.replace(\"\\n\", \"\"))\n",
    "        artist.append(soup.select('span.c-label.a-no-trucate')[i].text.replace(\"\\n\", \"\"))\n",
    "        rank.append(i+1)\n",
    "        \n",
    "    billboard100 = pd.DataFrame({\"song\":song, \"artist\":artist, \"rank\":rank})\n",
    "    \n",
    "    return billboard100"
   ]
  },
  {
   "cell_type": "code",
   "execution_count": 12,
   "id": "149e7ff5",
   "metadata": {},
   "outputs": [
    {
     "data": {
      "application/vnd.jupyter.widget-view+json": {
       "model_id": "9018eb82f6f9462ab2001c63483aab33",
       "version_major": 2,
       "version_minor": 0
      },
      "text/plain": [
       "  0%|          | 0/100 [00:00<?, ?it/s]"
      ]
     },
     "metadata": {},
     "output_type": "display_data"
    }
   ],
   "source": [
    "billboard100=billboard_scraper_new()"
   ]
  },
  {
   "cell_type": "code",
   "execution_count": 13,
   "id": "ec94c22a",
   "metadata": {},
   "outputs": [
    {
     "data": {
      "text/plain": [
       "(100, 3)"
      ]
     },
     "execution_count": 13,
     "metadata": {},
     "output_type": "execute_result"
    }
   ],
   "source": [
    "billboard100.shape"
   ]
  },
  {
   "cell_type": "code",
   "execution_count": 14,
   "id": "2788862e",
   "metadata": {},
   "outputs": [
    {
     "name": "stdout",
     "output_type": "stream",
     "text": [
      "What is the name of your song?Last Christmas\n"
     ]
    }
   ],
   "source": [
    "# ask the user for input\n",
    "song = input(\"What is the name of your song?\").lower().replace(\" \", '')\n",
    "# standardize the input string\n",
    "# billboard.song.str.lower().str.replace(\" \". \"\").str.contains(song)"
   ]
  },
  {
   "cell_type": "code",
   "execution_count": 15,
   "id": "99a59113",
   "metadata": {},
   "outputs": [],
   "source": [
    "# implement a check to find the user input in the dataframe\n",
    "check = billboard100[billboard100['song'].str.lower().str.replace(\" \",\"\").str.contains(song)]"
   ]
  },
  {
   "cell_type": "code",
   "execution_count": 16,
   "id": "28f99719",
   "metadata": {},
   "outputs": [],
   "source": [
    "# assign the relevant index number to list for later string-operations\n",
    "index = check.index.tolist()"
   ]
  },
  {
   "cell_type": "code",
   "execution_count": 17,
   "id": "ccda5dc4",
   "metadata": {},
   "outputs": [
    {
     "data": {
      "text/plain": [
       "'Last Christmas'"
      ]
     },
     "execution_count": 17,
     "metadata": {},
     "output_type": "execute_result"
    }
   ],
   "source": [
    "billboard100.song[index].values[0]"
   ]
  },
  {
   "cell_type": "code",
   "execution_count": 18,
   "id": "178e60a2",
   "metadata": {},
   "outputs": [
    {
     "name": "stdout",
     "output_type": "stream",
     "text": [
      "Do you mean Last Christmas by Wham!?yes\n",
      "Nice! This is a hot song! You might also like For Tonight by Giveon\n"
     ]
    }
   ],
   "source": [
    "# check if the check has returned a value or not (is the song hot or not?)\n",
    "if len(check) == 0:\n",
    "    print(\"Not saying you have a bad taste, but it ain't hot.\")\n",
    "else:\n",
    "    answer = input(\"Do you mean \" + billboard100.song[index].values[0] + \" by \" + billboard100.artist[index].values[0] + \"?\")\n",
    "# provide a suggestion in case the song is the list    \n",
    "    if answer.lower() == 'yes':\n",
    "        suggestion = billboard100.sample().index.tolist()\n",
    "        print(\"Nice! This is a hot song! You might also like \" + billboard100['song'][suggestion].item() + \" by \" + billboard100['artist'][suggestion].item())\n",
    "    else:\n",
    "        print(\"Well, not so hot after all. We were thinking about different tracks.\")\n",
    "    \n",
    "    \n",
    "    \n",
    "    \n",
    "    "
   ]
  },
  {
   "cell_type": "code",
   "execution_count": null,
   "id": "8dbbbd17",
   "metadata": {},
   "outputs": [],
   "source": []
  }
 ],
 "metadata": {
  "kernelspec": {
   "display_name": "Python 3 (ipykernel)",
   "language": "python",
   "name": "python3"
  },
  "language_info": {
   "codemirror_mode": {
    "name": "ipython",
    "version": 3
   },
   "file_extension": ".py",
   "mimetype": "text/x-python",
   "name": "python",
   "nbconvert_exporter": "python",
   "pygments_lexer": "ipython3",
   "version": "3.9.7"
  },
  "toc": {
   "base_numbering": 1,
   "nav_menu": {},
   "number_sections": true,
   "sideBar": true,
   "skip_h1_title": false,
   "title_cell": "Table of Contents",
   "title_sidebar": "Contents",
   "toc_cell": false,
   "toc_position": {},
   "toc_section_display": true,
   "toc_window_display": false
  }
 },
 "nbformat": 4,
 "nbformat_minor": 5
}
