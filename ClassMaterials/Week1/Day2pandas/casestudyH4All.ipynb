{
 "cells": [
  {
   "cell_type": "markdown",
   "id": "595b0eb8",
   "metadata": {},
   "source": [
    "## Intro to Pandas "
   ]
  },
  {
   "cell_type": "markdown",
   "id": "732a8608",
   "metadata": {},
   "source": [
    "#### NUMPY and PANDAS "
   ]
  },
  {
   "cell_type": "code",
   "execution_count": 1,
   "id": "89e80f9f",
   "metadata": {},
   "outputs": [],
   "source": [
    "#import libraries \n",
    "import numpy as np \n",
    "import pandas as pd "
   ]
  },
  {
   "cell_type": "code",
   "execution_count": 6,
   "id": "f7437c09",
   "metadata": {},
   "outputs": [
    {
     "name": "stdout",
     "output_type": "stream",
     "text": [
      "casestudyH4All.ipynb           h4Aextracolumndefinitions.docx\r\n",
      "\u001b[34mdata for class\u001b[m\u001b[m                 image.png\r\n",
      "data for class.zip\r\n"
     ]
    }
   ],
   "source": [
    "#check whats in my current working directory \n",
    "!ls"
   ]
  },
  {
   "cell_type": "code",
   "execution_count": 10,
   "id": "cfd9f16f",
   "metadata": {},
   "outputs": [
    {
     "name": "stdout",
     "output_type": "stream",
     "text": [
      "/bin/bash: line 0: cd: /date_for_class: No such file or directory\r\n"
     ]
    }
   ],
   "source": [
    "#move to a sub directory to check i have the files \n",
    "!cd /date_for_class"
   ]
  },
  {
   "cell_type": "code",
   "execution_count": null,
   "id": "25fb37c3",
   "metadata": {},
   "outputs": [],
   "source": [
    "#check the files are there and their names\n",
    "!ls"
   ]
  },
  {
   "cell_type": "code",
   "execution_count": null,
   "id": "31dbfd34",
   "metadata": {},
   "outputs": [],
   "source": [
    "#move up one directory (to working folder) \n",
    "cd .."
   ]
  },
  {
   "cell_type": "code",
   "execution_count": null,
   "id": "b6e491e9",
   "metadata": {},
   "outputs": [],
   "source": [
    "#read the first file - its a csv\n",
    "file1=pd.read_csv('Healthcare/file1.csv')"
   ]
  },
  {
   "cell_type": "code",
   "execution_count": null,
   "id": "6e922907",
   "metadata": {},
   "outputs": [],
   "source": [
    "#check the file \n",
    "file1.shape"
   ]
  },
  {
   "cell_type": "code",
   "execution_count": null,
   "id": "f0aa2ba4",
   "metadata": {},
   "outputs": [],
   "source": [
    "#review the numeric properties and stats \n",
    "file1.describe()"
   ]
  },
  {
   "cell_type": "code",
   "execution_count": null,
   "id": "c513ebf7",
   "metadata": {},
   "outputs": [],
   "source": [
    "#look at the info -including the nulls \n",
    "file1.info()"
   ]
  },
  {
   "cell_type": "code",
   "execution_count": null,
   "id": "cf7542a5",
   "metadata": {},
   "outputs": [],
   "source": [
    "#review the top few rows \n",
    "file1.head()"
   ]
  },
  {
   "cell_type": "code",
   "execution_count": null,
   "id": "a144c8e6",
   "metadata": {},
   "outputs": [],
   "source": [
    "#read the second file in - its a txt file, tab separated \n",
    "file2=pd.read_csv('Healthcare/file2.txt',sep='\\t')"
   ]
  },
  {
   "cell_type": "code",
   "execution_count": null,
   "id": "2333e875",
   "metadata": {},
   "outputs": [],
   "source": [
    "#check the file \n",
    "file2.head()"
   ]
  },
  {
   "cell_type": "code",
   "execution_count": null,
   "id": "ea9d3ee5",
   "metadata": {},
   "outputs": [],
   "source": [
    "#check the same number of columns in the two files. \n",
    "# we could also check the headers are matching !\n",
    "file2.shape"
   ]
  },
  {
   "cell_type": "code",
   "execution_count": null,
   "id": "f2e3adb8",
   "metadata": {},
   "outputs": [],
   "source": [
    "file1.shape"
   ]
  },
  {
   "cell_type": "code",
   "execution_count": null,
   "id": "e38c9504",
   "metadata": {},
   "outputs": [],
   "source": [
    "#read the file 3 - its an excel\n",
    "file3=pd.read_excel('Healthcare/file3.xlsx',engine='openpyxl')"
   ]
  },
  {
   "cell_type": "code",
   "execution_count": null,
   "id": "0b443ca1",
   "metadata": {},
   "outputs": [],
   "source": [
    "#same for file4 \n",
    "file4=pd.read_excel('Healthcare/file4.xlsx',engine='openpyxl')"
   ]
  },
  {
   "cell_type": "code",
   "execution_count": null,
   "id": "064eaae4",
   "metadata": {},
   "outputs": [],
   "source": [
    "#for excel you might need an extra package. \n",
    "#i am checking to see if installed\n",
    "#if not installed, then I close down jupyter, go to the terminal \n",
    "#and install the package with conda install openpyxl \n",
    "!conda install openpyxl"
   ]
  },
  {
   "cell_type": "code",
   "execution_count": null,
   "id": "35be6c4e",
   "metadata": {},
   "outputs": [],
   "source": [
    "#set column headers - this is not always necessary, but its good practice\n",
    "columns=file1.columns"
   ]
  },
  {
   "cell_type": "code",
   "execution_count": null,
   "id": "473b4d2d",
   "metadata": {},
   "outputs": [],
   "source": [
    "#check the variable \n",
    "columns"
   ]
  },
  {
   "cell_type": "code",
   "execution_count": null,
   "id": "457270ac",
   "metadata": {},
   "outputs": [],
   "source": [
    "#create data frame \n",
    "data=pd.DataFrame(columns=columns)"
   ]
  },
  {
   "cell_type": "code",
   "execution_count": null,
   "id": "31b77d1d",
   "metadata": {},
   "outputs": [],
   "source": [
    "data"
   ]
  },
  {
   "cell_type": "code",
   "execution_count": null,
   "id": "a587e142",
   "metadata": {},
   "outputs": [],
   "source": [
    "#join the data frame with the first file \n",
    "data=pd.concat([data,file1],axis=0)"
   ]
  },
  {
   "cell_type": "code",
   "execution_count": null,
   "id": "9b65996c",
   "metadata": {},
   "outputs": [],
   "source": [
    "#join the data frame with the other files \n",
    "data=pd.concat([data,file2,file3,file4],axis=0)"
   ]
  },
  {
   "cell_type": "code",
   "execution_count": null,
   "id": "87f53f50",
   "metadata": {},
   "outputs": [],
   "source": [
    "#check the data frame - should be 4028 rows \n",
    "data.info()"
   ]
  },
  {
   "cell_type": "code",
   "execution_count": null,
   "id": "5c2bb62d",
   "metadata": {},
   "outputs": [],
   "source": [
    "data.head()"
   ]
  },
  {
   "cell_type": "markdown",
   "id": "ac85f168",
   "metadata": {},
   "source": [
    "## some cleaning steps \n",
    "- change headers to lower case \n",
    "- revision of for loops "
   ]
  },
  {
   "cell_type": "code",
   "execution_count": null,
   "id": "1ed93f73",
   "metadata": {},
   "outputs": [],
   "source": [
    "cols=[]\n",
    "for i in range(len(data.columns)):\n",
    "    cols.append(data.columns[i].lower())\n",
    "\n",
    "#this is the function : data.columns.lower()"
   ]
  },
  {
   "cell_type": "code",
   "execution_count": null,
   "id": "00126b4e",
   "metadata": {},
   "outputs": [],
   "source": [
    "data.columns=cols"
   ]
  },
  {
   "cell_type": "code",
   "execution_count": null,
   "id": "b5b688c3",
   "metadata": {},
   "outputs": [],
   "source": [
    "data.head()"
   ]
  },
  {
   "cell_type": "markdown",
   "id": "e5bd31b7",
   "metadata": {},
   "source": [
    "### drop columns "
   ]
  },
  {
   "cell_type": "code",
   "execution_count": null,
   "id": "6c198652",
   "metadata": {},
   "outputs": [],
   "source": [
    "datanew=data.drop(['controln','hv1'],axis=1)"
   ]
  },
  {
   "cell_type": "code",
   "execution_count": null,
   "id": "fa77dd77",
   "metadata": {},
   "outputs": [],
   "source": [
    "datanew.head()"
   ]
  },
  {
   "cell_type": "markdown",
   "id": "7057978e",
   "metadata": {},
   "source": [
    "#### Look at the end of the data with tail - notice the index is not refreshed?"
   ]
  },
  {
   "cell_type": "code",
   "execution_count": null,
   "id": "146a460e",
   "metadata": {},
   "outputs": [],
   "source": [
    "datanew.tail()"
   ]
  },
  {
   "cell_type": "code",
   "execution_count": null,
   "id": "e1b73f5b",
   "metadata": {},
   "outputs": [],
   "source": [
    "datanew.info()"
   ]
  },
  {
   "cell_type": "markdown",
   "id": "52a473a5",
   "metadata": {},
   "source": [
    "### reset index ! "
   ]
  },
  {
   "cell_type": "code",
   "execution_count": null,
   "id": "f636ab59",
   "metadata": {},
   "outputs": [],
   "source": [
    "datanew.reset_index(drop=True, inplace=True)"
   ]
  },
  {
   "cell_type": "markdown",
   "id": "0a8b0ae7",
   "metadata": {},
   "source": [
    "## filtering the data frame using subsets or query()"
   ]
  },
  {
   "cell_type": "code",
   "execution_count": null,
   "id": "8e562d93",
   "metadata": {},
   "outputs": [],
   "source": [
    "filtered=datanew[(datanew['state']=='FL')&(datanew['gender']=='M')]"
   ]
  },
  {
   "cell_type": "markdown",
   "id": "9ff614e0",
   "metadata": {},
   "source": [
    "## california + females + avg gift greater than $10 "
   ]
  },
  {
   "cell_type": "code",
   "execution_count": null,
   "id": "09846566",
   "metadata": {},
   "outputs": [],
   "source": [
    "# 252 \n",
    "\n",
    "filtered2=datanew[(datanew['state']=='CA')&(datanew['gender']=='F')&(datanew['avggift']>10)]"
   ]
  },
  {
   "cell_type": "code",
   "execution_count": null,
   "id": "f878da93",
   "metadata": {},
   "outputs": [],
   "source": [
    "filtered2.shape"
   ]
  },
  {
   "cell_type": "markdown",
   "id": "e41daf9b",
   "metadata": {},
   "source": [
    "### same using .query() "
   ]
  },
  {
   "cell_type": "code",
   "execution_count": null,
   "id": "debb89dc",
   "metadata": {},
   "outputs": [],
   "source": [
    "filtered3=datanew.query('gender==\"F\"&state==\"CA\"&avggift>10')"
   ]
  },
  {
   "cell_type": "code",
   "execution_count": null,
   "id": "2228d84d",
   "metadata": {},
   "outputs": [],
   "source": [
    "filtered3.info()"
   ]
  },
  {
   "cell_type": "code",
   "execution_count": null,
   "id": "dc8ae134",
   "metadata": {},
   "outputs": [],
   "source": [
    "filtered3[['state','gender','avggift']]"
   ]
  },
  {
   "cell_type": "markdown",
   "id": "a7672939",
   "metadata": {},
   "source": [
    "## data cleaning - dtypes "
   ]
  },
  {
   "cell_type": "code",
   "execution_count": null,
   "id": "1b7e21ee",
   "metadata": {},
   "outputs": [],
   "source": [
    "#im going back to the original data frame... \n",
    "data.shape"
   ]
  },
  {
   "cell_type": "code",
   "execution_count": null,
   "id": "2ac5d1d0",
   "metadata": {},
   "outputs": [],
   "source": [
    "data.dtypes"
   ]
  },
  {
   "cell_type": "code",
   "execution_count": null,
   "id": "1d408ce1",
   "metadata": {},
   "outputs": [],
   "source": [
    "# first we tried changing the column hv1 to a float \n",
    "#but then noticed it contains some strings - the dtype change does not work"
   ]
  },
  {
   "cell_type": "code",
   "execution_count": null,
   "id": "702d7c77",
   "metadata": {},
   "outputs": [],
   "source": [
    "data['hv1'].astype('float',errors='ignore')"
   ]
  },
  {
   "cell_type": "code",
   "execution_count": null,
   "id": "7cad6148",
   "metadata": {},
   "outputs": [],
   "source": [
    "data.dtypes()"
   ]
  },
  {
   "cell_type": "code",
   "execution_count": null,
   "id": "24487ad7",
   "metadata": {},
   "outputs": [],
   "source": [
    "#lets use this function instead which has a coerce argument \n",
    "\n",
    "data['hv1']=pd.to_numeric(data['hv1'],errors='coerce')"
   ]
  },
  {
   "cell_type": "code",
   "execution_count": null,
   "id": "326c0591",
   "metadata": {},
   "outputs": [],
   "source": [
    "data['ic1']=pd.to_numeric(data['ic1'],errors='coerce')"
   ]
  },
  {
   "cell_type": "code",
   "execution_count": null,
   "id": "53eb613c",
   "metadata": {},
   "outputs": [],
   "source": [
    "data['ic3']=pd.to_numeric(data['ic3'],errors='coerce')"
   ]
  },
  {
   "cell_type": "code",
   "execution_count": null,
   "id": "71ea1c4e",
   "metadata": {},
   "outputs": [],
   "source": [
    "data['ic5']=pd.to_numeric(data['ic5'],errors='coerce')"
   ]
  },
  {
   "cell_type": "code",
   "execution_count": null,
   "id": "49c2f831",
   "metadata": {},
   "outputs": [],
   "source": [
    "data.dtypes"
   ]
  },
  {
   "cell_type": "markdown",
   "id": "9905b1a4",
   "metadata": {},
   "source": [
    "### Some useful functions to look into a column "
   ]
  },
  {
   "cell_type": "code",
   "execution_count": null,
   "id": "a2f242f9",
   "metadata": {},
   "outputs": [],
   "source": [
    "data['hvp1'].unique()"
   ]
  },
  {
   "cell_type": "code",
   "execution_count": null,
   "id": "683e6673",
   "metadata": {},
   "outputs": [],
   "source": [
    "data['hvp1'].value_counts()"
   ]
  },
  {
   "cell_type": "markdown",
   "id": "c4d33fc9",
   "metadata": {},
   "source": [
    "### drop duplicate rows - this is a function\n",
    "\n",
    "- without key arguments, we are only dropping complete duplicate rows"
   ]
  },
  {
   "cell_type": "code",
   "execution_count": null,
   "id": "febae613",
   "metadata": {},
   "outputs": [],
   "source": [
    "data=data.drop_duplicates()"
   ]
  },
  {
   "cell_type": "code",
   "execution_count": null,
   "id": "b59372f6",
   "metadata": {},
   "outputs": [],
   "source": [
    "data.shape"
   ]
  },
  {
   "cell_type": "markdown",
   "id": "0d00b5f4",
   "metadata": {},
   "source": [
    "## extract resulting data frame as csv "
   ]
  },
  {
   "cell_type": "code",
   "execution_count": null,
   "id": "fafafaac",
   "metadata": {},
   "outputs": [],
   "source": [
    "data.to_csv('Healthcare/day1.csv',index=False)"
   ]
  }
 ],
 "metadata": {
  "kernelspec": {
   "display_name": "Python 3 (ipykernel)",
   "language": "python",
   "name": "python3"
  },
  "language_info": {
   "codemirror_mode": {
    "name": "ipython",
    "version": 3
   },
   "file_extension": ".py",
   "mimetype": "text/x-python",
   "name": "python",
   "nbconvert_exporter": "python",
   "pygments_lexer": "ipython3",
   "version": "3.9.7"
  }
 },
 "nbformat": 4,
 "nbformat_minor": 5
}
