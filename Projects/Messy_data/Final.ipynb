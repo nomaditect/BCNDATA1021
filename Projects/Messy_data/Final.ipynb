{
 "cells": [
  {
   "cell_type": "code",
   "execution_count": 29,
   "metadata": {},
   "outputs": [],
   "source": [
    "import pandas as pd\n",
    "import numpy as np\n",
    "import re\n",
    "from matplotlib import pyplot as plt\n",
    "import itertools\n",
    "plt.style.use('ggplot')"
   ]
  },
  {
   "cell_type": "code",
   "execution_count": 30,
   "metadata": {},
   "outputs": [],
   "source": [
    "import nltk\n",
    "from nltk.corpus import stopwords\n",
    "STOPWORDS = set(stopwords.words('english'))"
   ]
  },
  {
   "cell_type": "code",
   "execution_count": 31,
   "metadata": {},
   "outputs": [
    {
     "name": "stdout",
     "output_type": "stream",
     "text": [
      "alldata.csv      fulltimeBOS.csv  fulltimeMV.csv   fulltimeSF.csv\r\n",
      "cleandata.xlsx   fulltimeCHI.csv  fulltimeNY.csv   fulltimeSU.csv\r\n",
      "fulltimeAL.csv   fulltimeDC.csv   fulltimeRM.csv\r\n",
      "fulltimeAT.csv   fulltimeLA.csv   fulltimeSD.csv\r\n",
      "fulltimeBO.csv   fulltimeMA.csv   fulltimeSEA.csv\r\n"
     ]
    }
   ],
   "source": [
    "ls"
   ]
  },
  {
   "cell_type": "code",
   "execution_count": 32,
   "metadata": {},
   "outputs": [
    {
     "name": "stdout",
     "output_type": "stream",
     "text": [
      "[Errno 2] No such file or directory: 'Kaggle_Data'\n",
      "/Users/AFROARC/Documents/GitHub/BCNDATA1021/Projects/Messy_data/Kaggle_Data\n"
     ]
    }
   ],
   "source": [
    "cd Kaggle_Data"
   ]
  },
  {
   "cell_type": "code",
   "execution_count": 33,
   "metadata": {},
   "outputs": [
    {
     "name": "stdout",
     "output_type": "stream",
     "text": [
      "alldata.csv      fulltimeBOS.csv  fulltimeMV.csv   fulltimeSF.csv\r\n",
      "cleandata.xlsx   fulltimeCHI.csv  fulltimeNY.csv   fulltimeSU.csv\r\n",
      "fulltimeAL.csv   fulltimeDC.csv   fulltimeRM.csv\r\n",
      "fulltimeAT.csv   fulltimeLA.csv   fulltimeSD.csv\r\n",
      "fulltimeBO.csv   fulltimeMA.csv   fulltimeSEA.csv\r\n"
     ]
    }
   ],
   "source": [
    "ls"
   ]
  },
  {
   "cell_type": "code",
   "execution_count": 34,
   "metadata": {},
   "outputs": [
    {
     "data": {
      "text/plain": [
       "0"
      ]
     },
     "execution_count": 34,
     "metadata": {},
     "output_type": "execute_result"
    }
   ],
   "source": [
    "df = pd.read_csv(\"alldata.csv\")\n",
    "df['reviews'] = df['reviews'].fillna(0) #replace null values with 0.\n",
    "df.head()\n",
    "df = df.dropna(axis=0, how = 'any') #remove rows with all null values\n",
    "sum(df.isnull().any(axis=1)) # check if the removal is successful"
   ]
  },
  {
   "cell_type": "code",
   "execution_count": 35,
   "metadata": {},
   "outputs": [
    {
     "data": {
      "text/plain": [
       "array(['Atlanta, GA', 'Austin, TX', 'Round Rock, TX', 'Cedar Park, TX',\n",
       "       'Boulder, CO', 'Boston, MA', 'Chicago, IL', 'Washington, DC',\n",
       "       'Los Angeles, CA', 'Cambridge, MA', 'Mountain View, CA',\n",
       "       'Manhattan, NY', 'New York, NY', 'Jersey City, NJ', 'Newark, NJ',\n",
       "       'Oakland, NJ', 'Bronx, NY', 'Hoboken, NJ', 'Brooklyn, NY',\n",
       "       'Rutherford, NJ', 'Union, NJ', 'Rahway, NJ', 'Murray Hill, NJ',\n",
       "       'South Plainfield, NJ', 'Queens, NY', 'Little Falls, NJ',\n",
       "       'Florham Park, NJ', 'Troy Hills, NJ', 'Bloomfield, NJ',\n",
       "       'Lynbrook, NY', 'Allendale, NJ', 'Parsippany, NJ',\n",
       "       'West Orange, NJ', 'Kenilworth, NJ', 'Ridgefield, NJ',\n",
       "       'Harrison, NY', 'Montclair, NJ', 'Fort Lee, NJ', 'Carlstadt, NJ',\n",
       "       'Orangeburg, NY', 'Fairfield, NJ', 'Palisades, NY',\n",
       "       'Hackensack, NJ', 'Roseland, NJ', 'East Hanover, NJ',\n",
       "       'Long Beach, NY', 'Whippany, NJ', 'Manhasset, NY', 'Yonkers, NY',\n",
       "       'New Hyde Park, NY', 'Secaucus, NJ', 'Port Washington, NY',\n",
       "       'Staten Island, NY', 'Short Hills, NJ', 'Manhattanville, NY',\n",
       "       'Woodcliff Lake, NJ', 'Redmond, WA', 'San Diego, CA',\n",
       "       'Bedminster, NJ', 'New Brunswick, NJ', 'Seattle, WA',\n",
       "       'San Francisco, CA', 'Redwood City, CA', 'San Mateo, CA',\n",
       "       'Berkeley, CA', 'San Francisco Bay Area, CA', 'Menlo Park, CA',\n",
       "       'Emeryville, CA', 'Oakland, CA', 'South San Francisco, CA',\n",
       "       'Foster City, CA', 'San Carlos, CA', 'Union City, CA',\n",
       "       'Burlingame, CA', 'Belmont, CA', 'Richmond, CA', 'Hayward, CA',\n",
       "       'Novato, CA', 'Alameda, CA', 'San Rafael, CA', 'Pleasant Hill, CA',\n",
       "       'San Bruno, CA', 'San Ramon, CA', 'Lafayette, CA',\n",
       "       'San Leandro, CA', 'Daly City, CA', 'Mill Valley, CA',\n",
       "       'Fremont, CA', 'Martinez, CA', 'Walnut Creek, CA', 'Kentfield, CA',\n",
       "       'Sunnyvale, CA'], dtype=object)"
      ]
     },
     "execution_count": 35,
     "metadata": {},
     "output_type": "execute_result"
    }
   ],
   "source": [
    "newlocation = [str(row).rstrip() for row in df['location']]\n",
    "newlocation = [re.sub('[\\s*]+[\\d]+[\\d]+[\\d]+[\\d]+[\\d]','',row) for row in newlocation]\n",
    "df['newlocation'] = pd.Series(newlocation,index = df.index)\n",
    "df['newlocation'].unique() # Check\n"
   ]
  },
  {
   "cell_type": "code",
   "execution_count": 36,
   "metadata": {
    "scrolled": true
   },
   "outputs": [],
   "source": [
    "city = [re.split(',',row)[0] for row in df['newlocation']]\n",
    "state = [re.split(',',row)[1] for row in df['newlocation']]\n",
    "state = map(lambda x: x.strip(),state)\n",
    "df['city'] = pd.Series(city,index = df.index)\n",
    "df['state'] = pd.Series(state,index = df.index)"
   ]
  },
  {
   "cell_type": "code",
   "execution_count": 37,
   "metadata": {},
   "outputs": [],
   "source": [
    "df['description'] = df['description'].apply(lambda x: re.sub('[^\\w\\s]','', x))"
   ]
  },
  {
   "cell_type": "code",
   "execution_count": 38,
   "metadata": {},
   "outputs": [],
   "source": [
    "df.to_excel('cleandata.xlsx')"
   ]
  },
  {
   "cell_type": "code",
   "execution_count": 39,
   "metadata": {},
   "outputs": [],
   "source": [
    "# Put all string together\n",
    "all_job_description = \"\"\n",
    "for job in df['description']:\n",
    "    all_job_description += \" \" + job"
   ]
  },
  {
   "cell_type": "code",
   "execution_count": 40,
   "metadata": {},
   "outputs": [],
   "source": [
    "# Remove stop words\n",
    "from nltk.corpus import stopwords\n",
    "stop_words = set((stopwords.words('english')))"
   ]
  },
  {
   "cell_type": "code",
   "execution_count": 41,
   "metadata": {},
   "outputs": [
    {
     "data": {
      "text/plain": [
       "3659991"
      ]
     },
     "execution_count": 41,
     "metadata": {},
     "output_type": "execute_result"
    }
   ],
   "source": [
    "from nltk.tokenize import word_tokenize\n",
    "all_job_description_l = all_job_description.lower()\n",
    "tokens = word_tokenize(str(all_job_description_l))\n",
    "len(tokens)"
   ]
  },
  {
   "cell_type": "code",
   "execution_count": 42,
   "metadata": {},
   "outputs": [],
   "source": [
    "filtered_description = []\n",
    "for word in tokens:\n",
    "    if word not in list(stop_words):\n",
    "        filtered_description += [word]"
   ]
  },
  {
   "cell_type": "code",
   "execution_count": 43,
   "metadata": {},
   "outputs": [],
   "source": [
    "filtered_description_string = \"\"\n",
    "for token in filtered_description:\n",
    "    filtered_description_string += ' ' + token"
   ]
  },
  {
   "cell_type": "code",
   "execution_count": 44,
   "metadata": {
    "scrolled": true
   },
   "outputs": [
    {
     "data": {
      "text/plain": [
       "[('data', 39765),\n",
       " ('experience', 31664),\n",
       " ('work', 19171),\n",
       " ('team', 16153),\n",
       " ('research', 14500),\n",
       " ('skills', 12744),\n",
       " ('development', 12486),\n",
       " ('business', 11831),\n",
       " ('ability', 10215),\n",
       " ('learning', 9642),\n",
       " ('years', 9150),\n",
       " ('science', 9141),\n",
       " ('new', 9074),\n",
       " ('analysis', 8980),\n",
       " ('including', 8505),\n",
       " ('management', 8085),\n",
       " ('working', 7940),\n",
       " ('design', 7916),\n",
       " ('technical', 7870),\n",
       " ('required', 7628),\n",
       " ('support', 7622),\n",
       " ('software', 7492),\n",
       " ('strong', 7400),\n",
       " ('machine', 7383),\n",
       " ('product', 7271),\n",
       " ('knowledge', 6925),\n",
       " ('engineering', 6858),\n",
       " ('systems', 6765),\n",
       " ('related', 6600),\n",
       " ('degree', 6502),\n",
       " ('environment', 6378),\n",
       " ('teams', 6348),\n",
       " ('develop', 6216),\n",
       " ('solutions', 6138),\n",
       " ('information', 6080),\n",
       " ('analytics', 5860),\n",
       " ('qualifications', 5813),\n",
       " ('opportunity', 5693),\n",
       " ('position', 5650),\n",
       " ('requirements', 5638),\n",
       " ('company', 5516),\n",
       " ('us', 5490),\n",
       " ('technology', 5361),\n",
       " ('products', 5294),\n",
       " ('status', 5250),\n",
       " ('projects', 5222),\n",
       " ('scientists', 5126),\n",
       " ('project', 4989),\n",
       " ('using', 4960),\n",
       " ('clinical', 4916),\n",
       " ('tools', 4889),\n",
       " ('communication', 4867),\n",
       " ('responsibilities', 4753),\n",
       " ('help', 4738),\n",
       " ('provide', 4695),\n",
       " ('preferred', 4655),\n",
       " ('must', 4643),\n",
       " ('computer', 4606),\n",
       " ('amp', 4585),\n",
       " ('job', 4563),\n",
       " ('andor', 4536),\n",
       " ('field', 4489),\n",
       " ('across', 4477),\n",
       " ('understanding', 4364),\n",
       " ('role', 4326),\n",
       " ('build', 4320),\n",
       " ('models', 4313),\n",
       " ('people', 4193),\n",
       " ('statistical', 4180),\n",
       " ('services', 4176),\n",
       " ('within', 4081),\n",
       " ('well', 4075),\n",
       " ('customers', 4031),\n",
       " ('customer', 3998),\n",
       " ('health', 3958),\n",
       " ('one', 3956),\n",
       " ('equal', 3917),\n",
       " ('technologies', 3917),\n",
       " ('problems', 3861),\n",
       " ('process', 3840),\n",
       " ('use', 3820),\n",
       " ('complex', 3817),\n",
       " ('may', 3803),\n",
       " ('engineers', 3794),\n",
       " ('employment', 3759),\n",
       " ('scientist', 3746),\n",
       " ('techniques', 3669),\n",
       " ('industry', 3652),\n",
       " ('analytical', 3644),\n",
       " ('quality', 3633),\n",
       " ('building', 3567),\n",
       " ('developing', 3513),\n",
       " ('advanced', 3469),\n",
       " ('scientific', 3452),\n",
       " ('excellent', 3446),\n",
       " ('make', 3416),\n",
       " ('medical', 3416),\n",
       " ('python', 3404),\n",
       " ('clients', 3390),\n",
       " ('employer', 3362),\n",
       " ('key', 3360),\n",
       " ('responsible', 3289),\n",
       " ('lead', 3287),\n",
       " ('time', 3286),\n",
       " ('disability', 3241),\n",
       " ('etc', 3187),\n",
       " ('system', 3178),\n",
       " ('results', 3176),\n",
       " ('national', 3155),\n",
       " ('performance', 3149),\n",
       " ('candidate', 3139),\n",
       " ('best', 3112),\n",
       " ('gender', 3094),\n",
       " ('large', 3093),\n",
       " ('applications', 3070),\n",
       " ('program', 3058),\n",
       " ('looking', 3024),\n",
       " ('high', 3012),\n",
       " ('expertise', 3005),\n",
       " ('operations', 3004),\n",
       " ('drive', 2966),\n",
       " ('written', 2951),\n",
       " ('world', 2925),\n",
       " ('also', 2915),\n",
       " ('global', 2899),\n",
       " ('highly', 2885),\n",
       " ('youll', 2870),\n",
       " ('insights', 2867),\n",
       " ('able', 2835),\n",
       " ('education', 2835),\n",
       " ('programming', 2832),\n",
       " ('include', 2826),\n",
       " ('modeling', 2826),\n",
       " ('marketing', 2817),\n",
       " ('methods', 2814),\n",
       " ('maintain', 2812),\n",
       " ('programs', 2811),\n",
       " ('reports', 2809),\n",
       " ('organization', 2788),\n",
       " ('statistics', 2765),\n",
       " ('relevant', 2763),\n",
       " ('internal', 2744),\n",
       " ('eg', 2735),\n",
       " ('plus', 2732),\n",
       " ('multiple', 2727),\n",
       " ('algorithms', 2682),\n",
       " ('perform', 2676),\n",
       " ('part', 2671),\n",
       " ('apply', 2669),\n",
       " ('phd', 2665),\n",
       " ('needs', 2648),\n",
       " ('join', 2634),\n",
       " ('ensure', 2633),\n",
       " ('impact', 2627),\n",
       " ('processes', 2617),\n",
       " ('create', 2608),\n",
       " ('quantitative', 2598),\n",
       " ('deep', 2593),\n",
       " ('based', 2587),\n",
       " ('leadership', 2568),\n",
       " ('orientation', 2558),\n",
       " ('please', 2557),\n",
       " ('opportunities', 2542),\n",
       " ('processing', 2540),\n",
       " ('senior', 2508),\n",
       " ('identify', 2500),\n",
       " ('minimum', 2492),\n",
       " ('level', 2491),\n",
       " ('innovative', 2477),\n",
       " ('group', 2465),\n",
       " ('manage', 2465),\n",
       " ('platform', 2453),\n",
       " ('application', 2447),\n",
       " ('leading', 2443),\n",
       " ('staff', 2439),\n",
       " ('big', 2431),\n",
       " ('security', 2430),\n",
       " ('applicants', 2429),\n",
       " ('veteran', 2420),\n",
       " ('sexual', 2413),\n",
       " ('employees', 2402),\n",
       " ('testing', 2387),\n",
       " ('demonstrated', 2375),\n",
       " ('language', 2342),\n",
       " ('service', 2341),\n",
       " ('client', 2339),\n",
       " ('color', 2315),\n",
       " ('benefits', 2312),\n",
       " ('test', 2309),\n",
       " ('diverse', 2303),\n",
       " ('office', 2299),\n",
       " ('training', 2291),\n",
       " ('race', 2268),\n",
       " ('improve', 2261),\n",
       " ('successful', 2255),\n",
       " ('identity', 2251),\n",
       " ('external', 2247),\n",
       " ('mission', 2246),\n",
       " ('need', 2212),\n",
       " ('professional', 2209),\n",
       " ('origin', 2202),\n",
       " ('biology', 2189),\n",
       " ('religion', 2184),\n",
       " ('activities', 2153),\n",
       " ('strategic', 2145),\n",
       " ('understand', 2137),\n",
       " ('deliver', 2131),\n",
       " ('effectively', 2123),\n",
       " ('qualified', 2117),\n",
       " ('communicate', 2100),\n",
       " ('protected', 2098),\n",
       " ('areas', 2093),\n",
       " ('financial', 2092),\n",
       " ('r', 2090),\n",
       " ('various', 2087),\n",
       " ('vision', 2076),\n",
       " ('laboratory', 2052),\n",
       " ('sql', 2048),\n",
       " ('collaborate', 2021),\n",
       " ('intelligence', 2008),\n",
       " ('candidates', 2004),\n",
       " ('department', 2003),\n",
       " ('2', 2002),\n",
       " ('analyze', 1991),\n",
       " ('bachelors', 1986),\n",
       " ('strategy', 1970),\n",
       " ('variety', 1967),\n",
       " ('practices', 1955),\n",
       " ('duties', 1951),\n",
       " ('learn', 1942),\n",
       " ('culture', 1940),\n",
       " ('closely', 1938),\n",
       " ('age', 1934),\n",
       " ('without', 1914),\n",
       " ('background', 1911),\n",
       " ('5', 1909),\n",
       " ('value', 1900),\n",
       " ('production', 1890),\n",
       " ('partners', 1878),\n",
       " ('life', 1875),\n",
       " ('appropriate', 1873),\n",
       " ('masters', 1872),\n",
       " ('cloud', 1869),\n",
       " ('issues', 1862),\n",
       " ('drug', 1861),\n",
       " ('google', 1860),\n",
       " ('success', 1859),\n",
       " ('market', 1853),\n",
       " ('sales', 1847),\n",
       " ('decisions', 1826),\n",
       " ('members', 1824),\n",
       " ('reporting', 1811),\n",
       " ('scale', 1800),\n",
       " ('least', 1799),\n",
       " ('care', 1796),\n",
       " ('implement', 1793),\n",
       " ('digital', 1788),\n",
       " ('growth', 1786),\n",
       " ('3', 1784),\n",
       " ('planning', 1776),\n",
       " ('like', 1774),\n",
       " ('equivalent', 1762),\n",
       " ('center', 1755),\n",
       " ('record', 1741),\n",
       " ('committed', 1737),\n",
       " ('following', 1714),\n",
       " ('action', 1709),\n",
       " ('stakeholders', 1708),\n",
       " ('cell', 1708),\n",
       " ('engineer', 1704),\n",
       " ('travel', 1687),\n",
       " ('review', 1679),\n",
       " ('around', 1679),\n",
       " ('studies', 1673),\n",
       " ('seeking', 1672),\n",
       " ('individuals', 1667),\n",
       " ('basic', 1666),\n",
       " ('innovation', 1664),\n",
       " ('sex', 1661),\n",
       " ('meet', 1655),\n",
       " ('providing', 1642),\n",
       " ('plans', 1641),\n",
       " ('procedures', 1638),\n",
       " ('focus', 1632),\n",
       " ('independently', 1621),\n",
       " ('individual', 1619),\n",
       " ('study', 1619),\n",
       " ('good', 1618),\n",
       " ('effective', 1608),\n",
       " ('others', 1606),\n",
       " ('public', 1605),\n",
       " ('sets', 1599),\n",
       " ('implementation', 1599),\n",
       " ('provides', 1597),\n",
       " ('take', 1586),\n",
       " ('problem', 1584),\n",
       " ('verbal', 1580),\n",
       " ('human', 1580),\n",
       " ('assist', 1577),\n",
       " ('user', 1575),\n",
       " ('cancer', 1570),\n",
       " ('every', 1569),\n",
       " ('challenges', 1564),\n",
       " ('solve', 1561),\n",
       " ('solving', 1557),\n",
       " ('model', 1557),\n",
       " ('description', 1544),\n",
       " ('risk', 1541),\n",
       " ('writing', 1537),\n",
       " ('regulatory', 1520),\n",
       " ('discovery', 1519),\n",
       " ('critical', 1512),\n",
       " ('code', 1512),\n",
       " ('managers', 1508),\n",
       " ('delivery', 1506),\n",
       " ('employee', 1501),\n",
       " ('access', 1497),\n",
       " ('future', 1497),\n",
       " ('better', 1496),\n",
       " ('proven', 1496),\n",
       " ('optimization', 1491),\n",
       " ('federal', 1490),\n",
       " ('analyses', 1489),\n",
       " ('track', 1485),\n",
       " ('collaborative', 1474),\n",
       " ('plan', 1472),\n",
       " ('area', 1471),\n",
       " ('microsoft', 1468),\n",
       " ('goals', 1468),\n",
       " ('amazon', 1467),\n",
       " ('1', 1452),\n",
       " ('regard', 1448),\n",
       " ('strategies', 1447),\n",
       " ('contribute', 1444),\n",
       " ('relationships', 1440),\n",
       " ('core', 1437),\n",
       " ('way', 1437),\n",
       " ('managing', 1436),\n",
       " ('ms', 1434),\n",
       " ('infrastructure', 1427),\n",
       " ('state', 1421),\n",
       " ('documentation', 1419),\n",
       " ('control', 1413),\n",
       " ('partner', 1412),\n",
       " ('community', 1408),\n",
       " ('manager', 1406),\n",
       " ('web', 1401),\n",
       " ('applied', 1399),\n",
       " ('competitive', 1398),\n",
       " ('safety', 1395),\n",
       " ('languages', 1384),\n",
       " ('current', 1383),\n",
       " ('needed', 1377),\n",
       " ('sources', 1372),\n",
       " ('ideas', 1370),\n",
       " ('java', 1368),\n",
       " ('functional', 1368),\n",
       " ('database', 1361),\n",
       " ('making', 1360),\n",
       " ('collaboration', 1355),\n",
       " ('documents', 1355),\n",
       " ('familiarity', 1354),\n",
       " ('growing', 1351),\n",
       " ('media', 1349),\n",
       " ('platforms', 1348),\n",
       " ('bring', 1347),\n",
       " ('social', 1345),\n",
       " ('resources', 1338),\n",
       " ('day', 1337),\n",
       " ('mathematics', 1335),\n",
       " ('proficiency', 1331),\n",
       " ('policy', 1330),\n",
       " ('creating', 1329),\n",
       " ('c', 1327),\n",
       " ('creative', 1325),\n",
       " ('functions', 1322),\n",
       " ('passion', 1322),\n",
       " ('requires', 1320),\n",
       " ('equipment', 1318),\n",
       " ('conduct', 1316),\n",
       " ('predictive', 1314),\n",
       " ('analyst', 1312),\n",
       " ('physical', 1310),\n",
       " ('healthcare', 1309),\n",
       " ('tasks', 1305),\n",
       " ('local', 1302),\n",
       " ('experiments', 1301),\n",
       " ('standards', 1287),\n",
       " ('companies', 1283),\n",
       " ('participate', 1282),\n",
       " ('great', 1279),\n",
       " ('genetic', 1277),\n",
       " ('users', 1276),\n",
       " ('existing', 1274),\n",
       " ('content', 1274),\n",
       " ('ai', 1272),\n",
       " ('manufacturing', 1268),\n",
       " ('applicable', 1267),\n",
       " ('efforts', 1266),\n",
       " ('marital', 1265),\n",
       " ('university', 1255),\n",
       " ('used', 1253),\n",
       " ('fastpaced', 1252),\n",
       " ('specific', 1252),\n",
       " ('career', 1252),\n",
       " ('capabilities', 1249),\n",
       " ('execution', 1249),\n",
       " ('novel', 1245),\n",
       " ('expert', 1240),\n",
       " ('small', 1238),\n",
       " ('primary', 1235),\n",
       " ('network', 1231),\n",
       " ('approaches', 1225),\n",
       " ('architecture', 1217),\n",
       " ('natural', 1216),\n",
       " ('san', 1211),\n",
       " ('essential', 1205),\n",
       " ('leader', 1204),\n",
       " ('lab', 1204),\n",
       " ('concepts', 1202),\n",
       " ('range', 1201),\n",
       " ('recommendations', 1194),\n",
       " ('decision', 1189),\n",
       " ('medicine', 1186),\n",
       " ('molecular', 1186),\n",
       " ('focused', 1183),\n",
       " ('organizational', 1183),\n",
       " ('databases', 1182),\n",
       " ('together', 1181),\n",
       " ('necessary', 1174),\n",
       " ('sciences', 1172),\n",
       " ('online', 1172),\n",
       " ('designing', 1168),\n",
       " ('basis', 1167),\n",
       " ('execute', 1165),\n",
       " ('worlds', 1163),\n",
       " ('achieve', 1162),\n",
       " ('present', 1159),\n",
       " ('meetings', 1154),\n",
       " ('available', 1149),\n",
       " ('additional', 1148),\n",
       " ('offer', 1142),\n",
       " ('order', 1138),\n",
       " ('passionate', 1137),\n",
       " ('delivering', 1135),\n",
       " ('visualization', 1133),\n",
       " ('unique', 1132),\n",
       " ('law', 1128),\n",
       " ('computational', 1125),\n",
       " ('change', 1122),\n",
       " ('questions', 1119),\n",
       " ('excel', 1119),\n",
       " ('patients', 1118),\n",
       " ('year', 1116),\n",
       " ('operational', 1116),\n",
       " ('experiences', 1115),\n",
       " ('helping', 1110),\n",
       " ('general', 1109),\n",
       " ('datasets', 1108),\n",
       " ('distributed', 1106),\n",
       " ('dynamic', 1105),\n",
       " ('commercial', 1105),\n",
       " ('handson', 1104),\n",
       " ('insurance', 1104),\n",
       " ('expression', 1103),\n",
       " ('interpersonal', 1100),\n",
       " ('member', 1099),\n",
       " ('compliance', 1099),\n",
       " ('crossfunctional', 1098),\n",
       " ('next', 1097),\n",
       " ('presentations', 1096),\n",
       " ('mining', 1093),\n",
       " ('assigned', 1093),\n",
       " ('initiatives', 1090),\n",
       " ('enable', 1087),\n",
       " ('spark', 1085),\n",
       " ('supporting', 1082),\n",
       " ('detail', 1082),\n",
       " ('diversity', 1082),\n",
       " ('potential', 1073),\n",
       " ('discipline', 1061),\n",
       " ('consulting', 1059),\n",
       " ('investment', 1059),\n",
       " ('different', 1057),\n",
       " ('generation', 1052),\n",
       " ('space', 1050),\n",
       " ('location', 1049),\n",
       " ('want', 1048),\n",
       " ('define', 1047),\n",
       " ('get', 1043),\n",
       " ('open', 1040),\n",
       " ('organizations', 1036),\n",
       " ('applying', 1032),\n",
       " ('analyzing', 1030),\n",
       " ('agency', 1028),\n",
       " ('grow', 1027),\n",
       " ('oral', 1026),\n",
       " ('academic', 1025),\n",
       " ('consideration', 1022),\n",
       " ('citizenship', 1022),\n",
       " ('levels', 1022),\n",
       " ('presentation', 1021),\n",
       " ('limited', 1020),\n",
       " ('real', 1015),\n",
       " ('director', 1014),\n",
       " ('analysts', 1007),\n",
       " ('computing', 1006),\n",
       " ('enterprise', 1002),\n",
       " ('includes', 999),\n",
       " ('desired', 999),\n",
       " ('set', 994),\n",
       " ('serve', 993),\n",
       " ('receive', 993),\n",
       " ('broad', 993),\n",
       " ('government', 992),\n",
       " ('methodologies', 992),\n",
       " ('aws', 991),\n",
       " ('power', 991),\n",
       " ('attention', 991),\n",
       " ('full', 991),\n",
       " ('finance', 989),\n",
       " ('direct', 986),\n",
       " ('clearance', 985),\n",
       " ('driven', 979),\n",
       " ('hadoop', 977),\n",
       " ('evaluate', 974),\n",
       " ('materials', 971),\n",
       " ('two', 970),\n",
       " ('integration', 969),\n",
       " ('summary', 969),\n",
       " ('similar', 968),\n",
       " ('directly', 967),\n",
       " ('metrics', 965),\n",
       " ('school', 959),\n",
       " ('works', 957),\n",
       " ('ml', 957),\n",
       " ('environmental', 956),\n",
       " ('ideal', 956),\n",
       " ('consumer', 955),\n",
       " ('york', 955),\n",
       " ('thinking', 948),\n",
       " ('exciting', 948),\n",
       " ('top', 946),\n",
       " ('10', 945),\n",
       " ('approach', 944),\n",
       " ('conditions', 943),\n",
       " ('groups', 942),\n",
       " ('experienced', 940),\n",
       " ('collection', 939),\n",
       " ('aerospace', 938),\n",
       " ('report', 934),\n",
       " ('analytic', 932),\n",
       " ('states', 932),\n",
       " ('trends', 930),\n",
       " ('sas', 929),\n",
       " ('wide', 928),\n",
       " ('experimental', 925),\n",
       " ('features', 919),\n",
       " ('right', 915),\n",
       " ('patient', 915),\n",
       " ('leaders', 914),\n",
       " ('assays', 914),\n",
       " ('portfolio', 911),\n",
       " ('interact', 908),\n",
       " ('findings', 908),\n",
       " ('driving', 905),\n",
       " ('experts', 904),\n",
       " ('protocols', 901),\n",
       " ('policies', 900),\n",
       " ('search', 900),\n",
       " ('disease', 899),\n",
       " ('comfortable', 896),\n",
       " ('agencies', 894),\n",
       " ('scalable', 891),\n",
       " ('source', 889),\n",
       " ('addition', 887),\n",
       " ('professionals', 886),\n",
       " ('chemistry', 885),\n",
       " ('subject', 884),\n",
       " ('fast', 884),\n",
       " ('find', 882),\n",
       " ('fulltime', 877),\n",
       " ('interest', 876),\n",
       " ('quickly', 876),\n",
       " ('motivated', 876),\n",
       " ('objectives', 873),\n",
       " ('communications', 870),\n",
       " ('ways', 868),\n",
       " ('personal', 867),\n",
       " ('evaluation', 867),\n",
       " ('know', 867),\n",
       " ('talented', 866),\n",
       " ('manner', 865),\n",
       " ('locations', 864),\n",
       " ('standard', 856),\n",
       " ('leverage', 856),\n",
       " ('4', 853),\n",
       " ('excellence', 853),\n",
       " ('monitoring', 851),\n",
       " ('agile', 851),\n",
       " ('love', 851),\n",
       " ('implementing', 847),\n",
       " ('accommodation', 847),\n",
       " ('bs', 843),\n",
       " ('performing', 841),\n",
       " ('validation', 841),\n",
       " ('recruiting', 839),\n",
       " ('considered', 835),\n",
       " ('international', 833),\n",
       " ('biological', 832),\n",
       " ('first', 831),\n",
       " ('maintaining', 831),\n",
       " ('firm', 830),\n",
       " ('place', 830),\n",
       " ('hardware', 830),\n",
       " ('datadriven', 829),\n",
       " ('schedule', 823),\n",
       " ('clear', 823),\n",
       " ('major', 817),\n",
       " ('advertising', 816),\n",
       " ('improvement', 814),\n",
       " ('assistance', 813),\n",
       " ('type', 812),\n",
       " ('comprehensive', 808),\n",
       " ('prior', 806),\n",
       " ('solid', 804),\n",
       " ('mobile', 803),\n",
       " ('millions', 803),\n",
       " ('hiring', 796),\n",
       " ('maintenance', 794),\n",
       " ('offers', 790),\n",
       " ('united', 788),\n",
       " ('regular', 788),\n",
       " ('visit', 787),\n",
       " ('researchers', 785),\n",
       " ('lives', 785),\n",
       " ('developers', 784),\n",
       " ('actionable', 783),\n",
       " ('end', 781),\n",
       " ('complete', 781),\n",
       " ('significant', 779),\n",
       " ('guidance', 777),\n",
       " ('family', 776),\n",
       " ('responsibility', 776),\n",
       " ('prepare', 774),\n",
       " ('workplace', 773),\n",
       " ('diseases', 773),\n",
       " ('automation', 771),\n",
       " ('largest', 770),\n",
       " ('package', 770),\n",
       " ('leads', 768),\n",
       " ('startup', 768),\n",
       " ('francisco', 768),\n",
       " ('currently', 766),\n",
       " ('bioinformatics', 764),\n",
       " ('ancestry', 764),\n",
       " ('proud', 764),\n",
       " ('expected', 763),\n",
       " ('aspects', 763),\n",
       " ('things', 763),\n",
       " ('possible', 761),\n",
       " ('generate', 761),\n",
       " ('solution', 760),\n",
       " ('environments', 759),\n",
       " ('flexible', 756),\n",
       " ('setting', 754),\n",
       " ('reasonable', 754),\n",
       " ('many', 753),\n",
       " ('come', 752),\n",
       " ('write', 745),\n",
       " ('practice', 744),\n",
       " ('extensive', 744),\n",
       " ('veterans', 743),\n",
       " ('college', 743),\n",
       " ('edge', 741),\n",
       " ('paid', 738),\n",
       " ('require', 738),\n",
       " ('dedicated', 736),\n",
       " ('establish', 734),\n",
       " ('economics', 733),\n",
       " ('act', 733),\n",
       " ('optimize', 733),\n",
       " ('produce', 732),\n",
       " ('would', 731),\n",
       " ('corporate', 731),\n",
       " ('timely', 729),\n",
       " ('rapidly', 729),\n",
       " ('direction', 726),\n",
       " ('exceptional', 726),\n",
       " ('throughout', 723),\n",
       " ('fields', 720),\n",
       " ('pipelines', 719),\n",
       " ('preparation', 717),\n",
       " ('document', 717),\n",
       " ('advance', 715),\n",
       " ('networks', 714),\n",
       " ('audiences', 712),\n",
       " ('eeo', 710),\n",
       " ('positive', 709),\n",
       " ('site', 708),\n",
       " ('reviews', 707),\n",
       " ('compensation', 705),\n",
       " ('via', 704),\n",
       " ('abilities', 704),\n",
       " ('colleagues', 704),\n",
       " ('regulations', 704),\n",
       " ('address', 703),\n",
       " ('hours', 701),\n",
       " ('frameworks', 701),\n",
       " ('markets', 699),\n",
       " ('ongoing', 697),\n",
       " ('pipeline', 696),\n",
       " ('contact', 695),\n",
       " ('artificial', 695),\n",
       " ('person', 695),\n",
       " ('outcomes', 694),\n",
       " ('supply', 694),\n",
       " ('influence', 693),\n",
       " ('events', 690),\n",
       " ('principles', 689),\n",
       " ('salary', 688),\n",
       " ('efficient', 688),\n",
       " ('consistent', 687),\n",
       " ('overall', 686),\n",
       " ('independent', 686),\n",
       " ('resumes', 685),\n",
       " ('changing', 683),\n",
       " ('develops', 680),\n",
       " ('challenging', 680),\n",
       " ('priorities', 680),\n",
       " ('consider', 678),\n",
       " ('demonstrate', 677),\n",
       " ('talent', 677),\n",
       " ('operating', 676),\n",
       " ('electrical', 676),\n",
       " ('inc', 674),\n",
       " ('records', 673),\n",
       " ('desire', 668),\n",
       " ('matter', 668),\n",
       " ('physics', 668),\n",
       " ('tech', 668),\n",
       " ('thrive', 668),\n",
       " ('interpret', 664),\n",
       " ('three', 664),\n",
       " ('common', 661),\n",
       " ('commitment', 661),\n",
       " ('built', 660),\n",
       " ('regardless', 660),\n",
       " ('affirmative', 660),\n",
       " ('offices', 659),\n",
       " ('share', 658),\n",
       " ('youre', 657),\n",
       " ('backgrounds', 656),\n",
       " ('supervision', 656),\n",
       " ('designs', 656),\n",
       " ('multidisciplinary', 652),\n",
       " ('publications', 652),\n",
       " ('home', 651),\n",
       " ('ie', 646),\n",
       " ('coordinate', 646),\n",
       " ('associate', 643),\n",
       " ('coding', 642),\n",
       " ('largescale', 642),\n",
       " ('important', 641),\n",
       " ('prioritize', 641),\n",
       " ('think', 637),\n",
       " ('dental', 635),\n",
       " ('continuous', 634),\n",
       " ('spacecraft', 633),\n",
       " ('values', 632),\n",
       " ('scripting', 632),\n",
       " ('boston', 632),\n",
       " ('city', 631),\n",
       " ('leveraging', 629),\n",
       " ('accredited', 628),\n",
       " ('identifying', 626),\n",
       " ('believe', 626),\n",
       " ('institute', 624),\n",
       " ('imaging', 624),\n",
       " ('maintains', 623),\n",
       " ('businesses', 622),\n",
       " ('keep', 622),\n",
       " ('ball', 621),\n",
       " ('worldclass', 619),\n",
       " ('determine', 613),\n",
       " ('view', 613),\n",
       " ('successfully', 613),\n",
       " ('special', 613),\n",
       " ('therapeutics', 613),\n",
       " ('practical', 612),\n",
       " ('conducting', 610),\n",
       " ('function', 610),\n",
       " ('request', 610),\n",
       " ('ca', 610),\n",
       " ('trials', 609),\n",
       " ('daily', 608),\n",
       " ('feedback', 607),\n",
       " ('modern', 606),\n",
       " ('laws', 605),\n",
       " ('outstanding', 604),\n",
       " ('overview', 604),\n",
       " ('401k', 604),\n",
       " ('automated', 603),\n",
       " ('recognized', 601),\n",
       " ('monitor', 601),\n",
       " ('outside', 600),\n",
       " ('changes', 600),\n",
       " ('protein', 599),\n",
       " ('class', 597),\n",
       " ('criminal', 596),\n",
       " ('detailed', 595),\n",
       " ('cutting', 595),\n",
       " ('100', 592),\n",
       " ('email', 592),\n",
       " ('applicant', 590),\n",
       " ('deliverables', 589),\n",
       " ('desirable', 589),\n",
       " ('early', 589),\n",
       " ('rampd', 588),\n",
       " ('administration', 588),\n",
       " ('goal', 588),\n",
       " ('meaningful', 586),\n",
       " ('energy', 585),\n",
       " ('transform', 584),\n",
       " ('devices', 584),\n",
       " ('forward', 584),\n",
       " ('chain', 583),\n",
       " ('integrity', 582),\n",
       " ('proficient', 582),\n",
       " ('pharmaceutical', 582),\n",
       " ('ad', 581),\n",
       " ('retail', 580),\n",
       " ('principal', 578),\n",
       " ('cost', 578),\n",
       " ('enhance', 577),\n",
       " ('therapeutic', 577),\n",
       " ('resume', 575),\n",
       " ('electronic', 574),\n",
       " ('ensuring', 573),\n",
       " ('tests', 572),\n",
       " ('engagement', 569),\n",
       " ('unit', 568),\n",
       " ('conferences', 567),\n",
       " ('word', 566),\n",
       " ('remote', 566),\n",
       " ('see', 564),\n",
       " ('requests', 563),\n",
       " ('performs', 562),\n",
       " ('hire', 562),\n",
       " ('possess', 561),\n",
       " ('tableau', 560),\n",
       " ('supports', 560),\n",
       " ('legal', 560),\n",
       " ('realtime', 560),\n",
       " ('matlab', 559),\n",
       " ('revenue', 558),\n",
       " ('integrate', 558),\n",
       " ('translate', 555),\n",
       " ('6', 554),\n",
       " ('junior', 554),\n",
       " ('history', 554),\n",
       " ('kpmg', 553),\n",
       " ('personnel', 553),\n",
       " ('line', 553),\n",
       " ('translational', 552),\n",
       " ('hands', 552),\n",
       " ('accurate', 552),\n",
       " ('previous', 551),\n",
       " ('specifications', 550),\n",
       " ('recognition', 550),\n",
       " ('guide', 550),\n",
       " ('disabilities', 549),\n",
       " ('uw', 549),\n",
       " ('brands', 548),\n",
       " ('behavior', 548),\n",
       " ('form', 547),\n",
       " ('benefit', 547),\n",
       " ('acquisition', 546),\n",
       " ('sequencing', 545),\n",
       " ('military', 545),\n",
       " ('flow', 543),\n",
       " ('mental', 543),\n",
       " ('oncology', 542),\n",
       " ('characterization', 541),\n",
       " ('improving', 540),\n",
       " ('mentor', 539),\n",
       " ('deadlines', 539),\n",
       " ('established', 539),\n",
       " ('discover', 538),\n",
       " ('preferably', 538),\n",
       " ('contributing', 538),\n",
       " ('enjoy', 537),\n",
       " ('interested', 537),\n",
       " ('industrial', 536),\n",
       " ('regression', 536),\n",
       " ('associated', 536),\n",
       " ('companys', 535),\n",
       " ('disciplines', 534),\n",
       " ('difference', 534),\n",
       " ('units', 534),\n",
       " ('completion', 532),\n",
       " ('made', 532),\n",
       " ('video', 531),\n",
       " ('robust', 530),\n",
       " ('interface', 530),\n",
       " ('clearly', 530),\n",
       " ('immunology', 529),\n",
       " ('obtain', 528),\n",
       " ('integrated', 528),\n",
       " ('communities', 527),\n",
       " ('domain', 527),\n",
       " ('progress', 526),\n",
       " ('scala', 526),\n",
       " ('whether', 525),\n",
       " ('centers', 522),\n",
       " ('political', 520),\n",
       " ('recruitment', 520),\n",
       " ('higher', 520),\n",
       " ('capital', 520),\n",
       " ('fun', 518),\n",
       " ('relocation', 518),\n",
       " ('students', 518),\n",
       " ('structures', 517),\n",
       " ('discriminate', 516),\n",
       " ('located', 515),\n",
       " ('resource', 515),\n",
       " ('statement', 514),\n",
       " ('assessment', 513),\n",
       " ('deployment', 512),\n",
       " ('powerpoint', 512),\n",
       " ('genetics', 512),\n",
       " ('target', 512),\n",
       " ('usa', 512),\n",
       " ('cover', 511),\n",
       " ('due', 511),\n",
       " ('active', 511),\n",
       " ('countries', 510),\n",
       " ('credit', 510),\n",
       " ('selection', 510),\n",
       " ('contract', 510),\n",
       " ('speech', 510),\n",
       " ('packages', 509),\n",
       " ('eligibility', 509),\n",
       " ('improvements', 507),\n",
       " ('cuttingedge', 507),\n",
       " ('perspectives', 507),\n",
       " ('demand', 506),\n",
       " ('explore', 505),\n",
       " ('efficiency', 504),\n",
       " ('math', 502),\n",
       " ('accuracy', 502),\n",
       " ('regarding', 502),\n",
       " ('date', 502),\n",
       " ('ecommerce', 502),\n",
       " ('nyu', 502),\n",
       " ('verification', 501),\n",
       " ('oriented', 501),\n",
       " ('engage', 500),\n",
       " ('initiative', 500),\n",
       " ('mathematical', 500),\n",
       " ('live', 500),\n",
       " ('departments', 499),\n",
       " ('clean', 498),\n",
       " ('measurement', 498),\n",
       " ('number', 496),\n",
       " ('creation', 495),\n",
       " ('account', 493),\n",
       " ('hospital', 493),\n",
       " ('assay', 493),\n",
       " ('letter', 492),\n",
       " ('faculty', 492),\n",
       " ('strongly', 492),\n",
       " ('transfer', 492),\n",
       " ('check', 490),\n",
       " ('division', 490),\n",
       " ('administrative', 489),\n",
       " ('communicating', 487),\n",
       " ('eligible', 487),\n",
       " ('collaboratively', 485),\n",
       " ('forecasting', 485),\n",
       " ('upon', 485),\n",
       " ('problemsolving', 480),\n",
       " ('combination', 479),\n",
       " ('thought', 479),\n",
       " ('hive', 479),\n",
       " ('worldwide', 479),\n",
       " ('seattle', 479),\n",
       " ('cross', 478),\n",
       " ('along', 478),\n",
       " ('executive', 477),\n",
       " ('nlp', 477),\n",
       " ('classification', 477),\n",
       " ('tracking', 477),\n",
       " ('opportunityaffirmative', 475),\n",
       " ('reach', 474),\n",
       " ('shape', 474),\n",
       " ('several', 473),\n",
       " ('scope', 472),\n",
       " ('7', 471),\n",
       " ('skill', 471),\n",
       " ...]"
      ]
     },
     "execution_count": 44,
     "metadata": {},
     "output_type": "execute_result"
    }
   ],
   "source": [
    "from collections import Counter\n",
    "Counter(filtered_description).most_common()"
   ]
  },
  {
   "cell_type": "code",
   "execution_count": 89,
   "metadata": {},
   "outputs": [],
   "source": [
    "tool_list = ['python','sql','java','scala','excel',\n",
    "               'aws','hadoop','spark','linux','tableau','sas',\n",
    "               'linux','sas','hive','oracle','perl',\n",
    "               'mysql','matlab','html','tensorflow','spss','mongodb']\n",
    "skills_list = ['machine learning','data analysis','data visualization',\n",
    "            'modeling','statistical analysis','research','deep learning',\n",
    "            'optimization','decision tree','logistic','random forest',\n",
    "            'ab testing','web scraping','neural network','interpersonal skills',\n",
    "            'communication skills','artificial intelligence']\n",
    "degree_vector = []\n",
    "for string in df['description']:\n",
    "    string = str(string).lower()\n",
    "    if 'degree' in string:\n",
    "        index = string.index('degree')\n",
    "        if index < 100:\n",
    "            degree_vector.append(string[0:index+100])\n",
    "        else:\n",
    "            degree_vector.append(string[index-100:index+100])\n",
    "    else:\n",
    "        degree_vector.append('No degree requirement')\n",
    "\n",
    "degree_list = ['master',\"masters\",'phd','bachelor',\"bachelors\",\n",
    "             'high school','No degree requirement']\n",
    "\n",
    "major_list = ['computer science','data science','statistics','quantitative',\n",
    "            'mathematics','economics','liberal arts','science','buisness',\n",
    "            'engineer','engineering','psychology','biology','medicine',\n",
    "            'marketing','business analysis','chemical engineering','chemistry',\n",
    "            'public health','public relationship']"
   ]
  },
  {
   "cell_type": "code",
   "execution_count": 90,
   "metadata": {},
   "outputs": [],
   "source": [
    "def countkeywords(keyword,text):\n",
    "    num = [str(row).count(keyword) for row in text]\n",
    "    return keyword,sum(num)"
   ]
  },
  {
   "cell_type": "code",
   "execution_count": 91,
   "metadata": {},
   "outputs": [],
   "source": [
    "keywords = []\n",
    "tool_word_count = []\n",
    "for keyword in tool_list:\n",
    "    keywords.append(countkeywords(keyword,filtered_description)[0])\n",
    "    tool_word_count.append(countkeywords(keyword,filtered_description)[1])"
   ]
  },
  {
   "cell_type": "code",
   "execution_count": null,
   "metadata": {},
   "outputs": [],
   "source": [
    "for keyword in ['r','bi','c','redshift','scikit']:\n",
    "    keywords.append(keyword)\n",
    "    tool_word_count.append(filtered_description.count(keyword))"
   ]
  },
  {
   "cell_type": "code",
   "execution_count": null,
   "metadata": {},
   "outputs": [],
   "source": [
    "tool = pd.DataFrame()\n",
    "tool['keyword'] = keywords\n",
    "tool['word_count'] = tool_word_count"
   ]
  },
  {
   "cell_type": "code",
   "execution_count": null,
   "metadata": {},
   "outputs": [],
   "source": [
    "#import sys \n",
    "#reload(sys)\n",
    "#sys.setdefaultencoding('utf8')\n",
    "tool.to_excel('tool.xlsx',sheet_name = 'sheet1')"
   ]
  },
  {
   "cell_type": "code",
   "execution_count": null,
   "metadata": {},
   "outputs": [],
   "source": [
    "skill_word_count = []\n",
    "for skill_keyword in skills_list:\n",
    "    skill_word_count.append(filtered_description_string.count(skill_keyword))\n",
    "skill = pd.DataFrame()\n",
    "skill['keyword'] = skills_list\n",
    "skill['word_count'] = skill_word_count"
   ]
  },
  {
   "cell_type": "code",
   "execution_count": null,
   "metadata": {},
   "outputs": [],
   "source": [
    "skill_word_count2 = []\n",
    "for skill_keyword in ['ai','nlp','ml','bi']:\n",
    "    skill_word_count2.append(filtered_description.count(skill_keyword))\n",
    "additional_skill_keyword = ['ai','nlp','ml','bi']\n",
    "additional = [[word,filtered_description.count(word)] for word in additional_skill_keyword]"
   ]
  },
  {
   "cell_type": "code",
   "execution_count": null,
   "metadata": {},
   "outputs": [],
   "source": [
    "filtered_description.count('spark')"
   ]
  },
  {
   "cell_type": "code",
   "execution_count": null,
   "metadata": {},
   "outputs": [],
   "source": [
    "skill2 = pd.DataFrame(additional,columns = ['keyword','word_count'])"
   ]
  },
  {
   "cell_type": "code",
   "execution_count": null,
   "metadata": {},
   "outputs": [],
   "source": [
    "skill = skill.append(skill2)"
   ]
  },
  {
   "cell_type": "code",
   "execution_count": null,
   "metadata": {},
   "outputs": [],
   "source": [
    "skill.to_excel('skill.xlsx',sheet_name = 'sheet1')"
   ]
  },
  {
   "cell_type": "code",
   "execution_count": null,
   "metadata": {},
   "outputs": [],
   "source": [
    "degree_word_count = []\n",
    "for degree in degree_list:\n",
    "    degree_word_count.append(countkeywords(degree,degree_vector)[1])"
   ]
  },
  {
   "cell_type": "code",
   "execution_count": null,
   "metadata": {},
   "outputs": [],
   "source": [
    "# Tokenize degree_vector to count abbrevations of degrees.\n",
    "from nltk.tokenize import word_tokenize\n",
    "tokenized_degree_vector = [word_tokenize(degree) for degree in degree_vector]\n",
    "for degree in ['ba','bs','ma','ms','undergraduate','graduate']:\n",
    "    degree_list.append(degree)\n",
    "    degree_word_count.append(countkeywords(degree,tokenized_degree_vector)[1])\n",
    "degree = pd.DataFrame()"
   ]
  },
  {
   "cell_type": "code",
   "execution_count": null,
   "metadata": {},
   "outputs": [],
   "source": [
    "degree['keyword'] = degree_list\n",
    "degree['word_count'] = degree_word_count\n",
    "degree.to_excel('degree.xlsx',sheet_name = 'sheet1')"
   ]
  },
  {
   "cell_type": "code",
   "execution_count": 60,
   "metadata": {
    "scrolled": true
   },
   "outputs": [],
   "source": [
    "major_word_count = []\n",
    "for major in major_list:\n",
    "    major_word_count.append(countkeywords(major,degree_vector)[1])"
   ]
  },
  {
   "cell_type": "code",
   "execution_count": 61,
   "metadata": {},
   "outputs": [],
   "source": [
    "major = pd.DataFrame()\n",
    "major['keyword'] = major_list\n",
    "major['word_count'] = major_word_count\n",
    "major.to_excel('major.xlsx',sheet_name = 'sheet1')"
   ]
  },
  {
   "cell_type": "code",
   "execution_count": 62,
   "metadata": {},
   "outputs": [],
   "source": [
    "# Compare by title"
   ]
  },
  {
   "cell_type": "code",
   "execution_count": 63,
   "metadata": {},
   "outputs": [],
   "source": [
    "lower_position = [position.lower() for position in df['position']]\n",
    "temp_counter = Counter(lower_position).most_common()"
   ]
  },
  {
   "cell_type": "code",
   "execution_count": 64,
   "metadata": {},
   "outputs": [],
   "source": [
    "category = []\n",
    "for position in lower_position:\n",
    "    if \"data scientist\" in position or 'data science' in position or \"machine learning\" in position:\n",
    "        category.append('data scientist')\n",
    "    elif \"analyst\" in position or \"analytics\" in position:\n",
    "        category.append('analyst')\n",
    "    elif \"engineer\" in position or \"artificial intelligence\" in position or \"ai\" in position:\n",
    "        category.append('engineer')\n",
    "    else:\n",
    "        category.append('other')"
   ]
  },
  {
   "cell_type": "code",
   "execution_count": 65,
   "metadata": {},
   "outputs": [],
   "source": [
    "df['title_category'] = category"
   ]
  },
  {
   "cell_type": "code",
   "execution_count": 66,
   "metadata": {},
   "outputs": [
    {
     "data": {
      "text/plain": [
       "[('other', 2944),\n",
       " ('data scientist', 1919),\n",
       " ('engineer', 1115),\n",
       " ('analyst', 975)]"
      ]
     },
     "execution_count": 66,
     "metadata": {},
     "output_type": "execute_result"
    }
   ],
   "source": [
    "Counter(category).most_common()"
   ]
  },
  {
   "cell_type": "code",
   "execution_count": 67,
   "metadata": {},
   "outputs": [],
   "source": [
    "# Compare by company size"
   ]
  },
  {
   "cell_type": "code",
   "execution_count": 68,
   "metadata": {},
   "outputs": [],
   "source": [
    "size_category = []\n",
    "for review in df['reviews']:\n",
    "    if review <= 50:\n",
    "        size_category.append('small')\n",
    "    elif review <= 700:\n",
    "        size_category.append('medium')\n",
    "    else:\n",
    "        size_category.append('large')"
   ]
  },
  {
   "cell_type": "code",
   "execution_count": 69,
   "metadata": {},
   "outputs": [],
   "source": [
    "df['size'] = size_category"
   ]
  },
  {
   "cell_type": "code",
   "execution_count": 70,
   "metadata": {},
   "outputs": [
    {
     "data": {
      "text/plain": [
       "[('small', 3268), ('medium', 1919), ('large', 1766)]"
      ]
     },
     "execution_count": 70,
     "metadata": {},
     "output_type": "execute_result"
    }
   ],
   "source": [
    "Counter(size_category).most_common()"
   ]
  },
  {
   "cell_type": "code",
   "execution_count": 71,
   "metadata": {},
   "outputs": [],
   "source": [
    "# Generate a new dataframe to put all keywords and frequencies in it. "
   ]
  },
  {
   "cell_type": "code",
   "execution_count": 72,
   "metadata": {},
   "outputs": [],
   "source": [
    "all_keywords = tool_list + skills_list + degree_list + major_list"
   ]
  },
  {
   "cell_type": "code",
   "execution_count": 73,
   "metadata": {},
   "outputs": [
    {
     "data": {
      "text/plain": [
       "72"
      ]
     },
     "execution_count": 73,
     "metadata": {},
     "output_type": "execute_result"
    }
   ],
   "source": [
    "len(all_keywords)"
   ]
  },
  {
   "cell_type": "code",
   "execution_count": 74,
   "metadata": {},
   "outputs": [],
   "source": [
    "def word_frequency(keyword):\n",
    "    temp = []\n",
    "    for single in df['description']:\n",
    "        single = single.lower()\n",
    "        temp.append(single.count(keyword))\n",
    "    return temp"
   ]
  },
  {
   "cell_type": "code",
   "execution_count": 75,
   "metadata": {},
   "outputs": [],
   "source": [
    "def add_column(word):\n",
    "    df[word] = word_frequency(word)"
   ]
  },
  {
   "cell_type": "code",
   "execution_count": 76,
   "metadata": {},
   "outputs": [],
   "source": [
    "for word in all_keywords:\n",
    "    add_column(word)"
   ]
  },
  {
   "cell_type": "code",
   "execution_count": null,
   "metadata": {},
   "outputs": [],
   "source": []
  },
  {
   "cell_type": "code",
   "execution_count": 77,
   "metadata": {},
   "outputs": [],
   "source": [
    "df.to_csv(\"final.csv\")"
   ]
  },
  {
   "cell_type": "code",
   "execution_count": null,
   "metadata": {},
   "outputs": [],
   "source": []
  },
  {
   "cell_type": "code",
   "execution_count": null,
   "metadata": {},
   "outputs": [],
   "source": []
  },
  {
   "cell_type": "code",
   "execution_count": 78,
   "metadata": {},
   "outputs": [],
   "source": [
    "# Tokenize all string to count the abbreviation words."
   ]
  },
  {
   "cell_type": "code",
   "execution_count": 79,
   "metadata": {},
   "outputs": [
    {
     "data": {
      "text/plain": [
       "6953"
      ]
     },
     "execution_count": 79,
     "metadata": {},
     "output_type": "execute_result"
    }
   ],
   "source": [
    "tokenized_description= [word_tokenize(str(single).lower()) for single in df['description']] \n",
    "len(tokenized_description)"
   ]
  },
  {
   "cell_type": "code",
   "execution_count": 80,
   "metadata": {},
   "outputs": [],
   "source": [
    "addtional_keywords = ['ai','ml','bi','r','ba','bs','ma','ms']"
   ]
  },
  {
   "cell_type": "code",
   "execution_count": 81,
   "metadata": {},
   "outputs": [],
   "source": [
    "def addtional_word_frequency(keyword):\n",
    "    temp = []\n",
    "    for single in tokenized_description:\n",
    "        temp.append(single.count(keyword))\n",
    "    return temp"
   ]
  },
  {
   "cell_type": "code",
   "execution_count": 82,
   "metadata": {},
   "outputs": [],
   "source": [
    "def add_additional_column(word):\n",
    "    df[word] = addtional_word_frequency(word)"
   ]
  },
  {
   "cell_type": "code",
   "execution_count": 83,
   "metadata": {},
   "outputs": [],
   "source": [
    "for word in addtional_keywords:\n",
    "    add_additional_column(word)"
   ]
  },
  {
   "cell_type": "code",
   "execution_count": 84,
   "metadata": {},
   "outputs": [],
   "source": [
    "copy = df"
   ]
  },
  {
   "cell_type": "code",
   "execution_count": 85,
   "metadata": {},
   "outputs": [],
   "source": [
    "list(copy)\n",
    "copy['artificial intelligence'] += copy['ai']\n",
    "copy['sql'] += copy['mysql']\n",
    "copy['machine learning'] += copy['ml']\n",
    "copy['master'] += (copy['master'] + copy['ma'] + copy['ms'])"
   ]
  },
  {
   "cell_type": "code",
   "execution_count": 86,
   "metadata": {},
   "outputs": [],
   "source": [
    "copy['bachelor'] += (copy['bachelors'] + copy['ba'] + copy['bs'])\n",
    "copy['engineer'] += copy['engineering']"
   ]
  },
  {
   "cell_type": "code",
   "execution_count": 87,
   "metadata": {},
   "outputs": [
    {
     "ename": "KeyError",
     "evalue": "\"['ba/bs'] not found in axis\"",
     "output_type": "error",
     "traceback": [
      "\u001b[0;31m---------------------------------------------------------------------------\u001b[0m",
      "\u001b[0;31mKeyError\u001b[0m                                  Traceback (most recent call last)",
      "\u001b[0;32m/var/folders/ry/12f_c8qd1kd7vb7q_tgpq9jh0000gn/T/ipykernel_8087/528217931.py\u001b[0m in \u001b[0;36m<module>\u001b[0;34m\u001b[0m\n\u001b[0;32m----> 1\u001b[0;31m \u001b[0mcopy\u001b[0m \u001b[0;34m=\u001b[0m \u001b[0mcopy\u001b[0m\u001b[0;34m.\u001b[0m\u001b[0mdrop\u001b[0m\u001b[0;34m(\u001b[0m\u001b[0mcolumns\u001b[0m \u001b[0;34m=\u001b[0m \u001b[0;34m[\u001b[0m\u001b[0;34m'ai'\u001b[0m\u001b[0;34m,\u001b[0m\u001b[0;34m'mysql'\u001b[0m\u001b[0;34m,\u001b[0m\u001b[0;34m'ml'\u001b[0m\u001b[0;34m,\u001b[0m\u001b[0;34m'master'\u001b[0m\u001b[0;34m,\u001b[0m\u001b[0;34m'ma'\u001b[0m\u001b[0;34m,\u001b[0m\u001b[0;34m'ms'\u001b[0m\u001b[0;34m,\u001b[0m\u001b[0;34m'bachelors'\u001b[0m\u001b[0;34m,\u001b[0m\u001b[0;34m'ba'\u001b[0m\u001b[0;34m,\u001b[0m\u001b[0;34m'bs'\u001b[0m\u001b[0;34m,\u001b[0m\u001b[0;34m'engineering'\u001b[0m\u001b[0;34m,\u001b[0m\u001b[0;34m'ba/bs'\u001b[0m\u001b[0;34m]\u001b[0m\u001b[0;34m)\u001b[0m\u001b[0;34m\u001b[0m\u001b[0;34m\u001b[0m\u001b[0m\n\u001b[0m",
      "\u001b[0;32m/opt/anaconda3/envs/classenv/lib/python3.9/site-packages/pandas/util/_decorators.py\u001b[0m in \u001b[0;36mwrapper\u001b[0;34m(*args, **kwargs)\u001b[0m\n\u001b[1;32m    309\u001b[0m                     \u001b[0mstacklevel\u001b[0m\u001b[0;34m=\u001b[0m\u001b[0mstacklevel\u001b[0m\u001b[0;34m,\u001b[0m\u001b[0;34m\u001b[0m\u001b[0;34m\u001b[0m\u001b[0m\n\u001b[1;32m    310\u001b[0m                 )\n\u001b[0;32m--> 311\u001b[0;31m             \u001b[0;32mreturn\u001b[0m \u001b[0mfunc\u001b[0m\u001b[0;34m(\u001b[0m\u001b[0;34m*\u001b[0m\u001b[0margs\u001b[0m\u001b[0;34m,\u001b[0m \u001b[0;34m**\u001b[0m\u001b[0mkwargs\u001b[0m\u001b[0;34m)\u001b[0m\u001b[0;34m\u001b[0m\u001b[0;34m\u001b[0m\u001b[0m\n\u001b[0m\u001b[1;32m    312\u001b[0m \u001b[0;34m\u001b[0m\u001b[0m\n\u001b[1;32m    313\u001b[0m         \u001b[0;32mreturn\u001b[0m \u001b[0mwrapper\u001b[0m\u001b[0;34m\u001b[0m\u001b[0;34m\u001b[0m\u001b[0m\n",
      "\u001b[0;32m/opt/anaconda3/envs/classenv/lib/python3.9/site-packages/pandas/core/frame.py\u001b[0m in \u001b[0;36mdrop\u001b[0;34m(self, labels, axis, index, columns, level, inplace, errors)\u001b[0m\n\u001b[1;32m   4904\u001b[0m                 \u001b[0mweight\u001b[0m  \u001b[0;36m1.0\u001b[0m     \u001b[0;36m0.8\u001b[0m\u001b[0;34m\u001b[0m\u001b[0;34m\u001b[0m\u001b[0m\n\u001b[1;32m   4905\u001b[0m         \"\"\"\n\u001b[0;32m-> 4906\u001b[0;31m         return super().drop(\n\u001b[0m\u001b[1;32m   4907\u001b[0m             \u001b[0mlabels\u001b[0m\u001b[0;34m=\u001b[0m\u001b[0mlabels\u001b[0m\u001b[0;34m,\u001b[0m\u001b[0;34m\u001b[0m\u001b[0;34m\u001b[0m\u001b[0m\n\u001b[1;32m   4908\u001b[0m             \u001b[0maxis\u001b[0m\u001b[0;34m=\u001b[0m\u001b[0maxis\u001b[0m\u001b[0;34m,\u001b[0m\u001b[0;34m\u001b[0m\u001b[0;34m\u001b[0m\u001b[0m\n",
      "\u001b[0;32m/opt/anaconda3/envs/classenv/lib/python3.9/site-packages/pandas/core/generic.py\u001b[0m in \u001b[0;36mdrop\u001b[0;34m(self, labels, axis, index, columns, level, inplace, errors)\u001b[0m\n\u001b[1;32m   4148\u001b[0m         \u001b[0;32mfor\u001b[0m \u001b[0maxis\u001b[0m\u001b[0;34m,\u001b[0m \u001b[0mlabels\u001b[0m \u001b[0;32min\u001b[0m \u001b[0maxes\u001b[0m\u001b[0;34m.\u001b[0m\u001b[0mitems\u001b[0m\u001b[0;34m(\u001b[0m\u001b[0;34m)\u001b[0m\u001b[0;34m:\u001b[0m\u001b[0;34m\u001b[0m\u001b[0;34m\u001b[0m\u001b[0m\n\u001b[1;32m   4149\u001b[0m             \u001b[0;32mif\u001b[0m \u001b[0mlabels\u001b[0m \u001b[0;32mis\u001b[0m \u001b[0;32mnot\u001b[0m \u001b[0;32mNone\u001b[0m\u001b[0;34m:\u001b[0m\u001b[0;34m\u001b[0m\u001b[0;34m\u001b[0m\u001b[0m\n\u001b[0;32m-> 4150\u001b[0;31m                 \u001b[0mobj\u001b[0m \u001b[0;34m=\u001b[0m \u001b[0mobj\u001b[0m\u001b[0;34m.\u001b[0m\u001b[0m_drop_axis\u001b[0m\u001b[0;34m(\u001b[0m\u001b[0mlabels\u001b[0m\u001b[0;34m,\u001b[0m \u001b[0maxis\u001b[0m\u001b[0;34m,\u001b[0m \u001b[0mlevel\u001b[0m\u001b[0;34m=\u001b[0m\u001b[0mlevel\u001b[0m\u001b[0;34m,\u001b[0m \u001b[0merrors\u001b[0m\u001b[0;34m=\u001b[0m\u001b[0merrors\u001b[0m\u001b[0;34m)\u001b[0m\u001b[0;34m\u001b[0m\u001b[0;34m\u001b[0m\u001b[0m\n\u001b[0m\u001b[1;32m   4151\u001b[0m \u001b[0;34m\u001b[0m\u001b[0m\n\u001b[1;32m   4152\u001b[0m         \u001b[0;32mif\u001b[0m \u001b[0minplace\u001b[0m\u001b[0;34m:\u001b[0m\u001b[0;34m\u001b[0m\u001b[0;34m\u001b[0m\u001b[0m\n",
      "\u001b[0;32m/opt/anaconda3/envs/classenv/lib/python3.9/site-packages/pandas/core/generic.py\u001b[0m in \u001b[0;36m_drop_axis\u001b[0;34m(self, labels, axis, level, errors)\u001b[0m\n\u001b[1;32m   4183\u001b[0m                 \u001b[0mnew_axis\u001b[0m \u001b[0;34m=\u001b[0m \u001b[0maxis\u001b[0m\u001b[0;34m.\u001b[0m\u001b[0mdrop\u001b[0m\u001b[0;34m(\u001b[0m\u001b[0mlabels\u001b[0m\u001b[0;34m,\u001b[0m \u001b[0mlevel\u001b[0m\u001b[0;34m=\u001b[0m\u001b[0mlevel\u001b[0m\u001b[0;34m,\u001b[0m \u001b[0merrors\u001b[0m\u001b[0;34m=\u001b[0m\u001b[0merrors\u001b[0m\u001b[0;34m)\u001b[0m\u001b[0;34m\u001b[0m\u001b[0;34m\u001b[0m\u001b[0m\n\u001b[1;32m   4184\u001b[0m             \u001b[0;32melse\u001b[0m\u001b[0;34m:\u001b[0m\u001b[0;34m\u001b[0m\u001b[0;34m\u001b[0m\u001b[0m\n\u001b[0;32m-> 4185\u001b[0;31m                 \u001b[0mnew_axis\u001b[0m \u001b[0;34m=\u001b[0m \u001b[0maxis\u001b[0m\u001b[0;34m.\u001b[0m\u001b[0mdrop\u001b[0m\u001b[0;34m(\u001b[0m\u001b[0mlabels\u001b[0m\u001b[0;34m,\u001b[0m \u001b[0merrors\u001b[0m\u001b[0;34m=\u001b[0m\u001b[0merrors\u001b[0m\u001b[0;34m)\u001b[0m\u001b[0;34m\u001b[0m\u001b[0;34m\u001b[0m\u001b[0m\n\u001b[0m\u001b[1;32m   4186\u001b[0m             \u001b[0mresult\u001b[0m \u001b[0;34m=\u001b[0m \u001b[0mself\u001b[0m\u001b[0;34m.\u001b[0m\u001b[0mreindex\u001b[0m\u001b[0;34m(\u001b[0m\u001b[0;34m**\u001b[0m\u001b[0;34m{\u001b[0m\u001b[0maxis_name\u001b[0m\u001b[0;34m:\u001b[0m \u001b[0mnew_axis\u001b[0m\u001b[0;34m}\u001b[0m\u001b[0;34m)\u001b[0m\u001b[0;34m\u001b[0m\u001b[0;34m\u001b[0m\u001b[0m\n\u001b[1;32m   4187\u001b[0m \u001b[0;34m\u001b[0m\u001b[0m\n",
      "\u001b[0;32m/opt/anaconda3/envs/classenv/lib/python3.9/site-packages/pandas/core/indexes/base.py\u001b[0m in \u001b[0;36mdrop\u001b[0;34m(self, labels, errors)\u001b[0m\n\u001b[1;32m   6015\u001b[0m         \u001b[0;32mif\u001b[0m \u001b[0mmask\u001b[0m\u001b[0;34m.\u001b[0m\u001b[0many\u001b[0m\u001b[0;34m(\u001b[0m\u001b[0;34m)\u001b[0m\u001b[0;34m:\u001b[0m\u001b[0;34m\u001b[0m\u001b[0;34m\u001b[0m\u001b[0m\n\u001b[1;32m   6016\u001b[0m             \u001b[0;32mif\u001b[0m \u001b[0merrors\u001b[0m \u001b[0;34m!=\u001b[0m \u001b[0;34m\"ignore\"\u001b[0m\u001b[0;34m:\u001b[0m\u001b[0;34m\u001b[0m\u001b[0;34m\u001b[0m\u001b[0m\n\u001b[0;32m-> 6017\u001b[0;31m                 \u001b[0;32mraise\u001b[0m \u001b[0mKeyError\u001b[0m\u001b[0;34m(\u001b[0m\u001b[0;34mf\"{labels[mask]} not found in axis\"\u001b[0m\u001b[0;34m)\u001b[0m\u001b[0;34m\u001b[0m\u001b[0;34m\u001b[0m\u001b[0m\n\u001b[0m\u001b[1;32m   6018\u001b[0m             \u001b[0mindexer\u001b[0m \u001b[0;34m=\u001b[0m \u001b[0mindexer\u001b[0m\u001b[0;34m[\u001b[0m\u001b[0;34m~\u001b[0m\u001b[0mmask\u001b[0m\u001b[0;34m]\u001b[0m\u001b[0;34m\u001b[0m\u001b[0;34m\u001b[0m\u001b[0m\n\u001b[1;32m   6019\u001b[0m         \u001b[0;32mreturn\u001b[0m \u001b[0mself\u001b[0m\u001b[0;34m.\u001b[0m\u001b[0mdelete\u001b[0m\u001b[0;34m(\u001b[0m\u001b[0mindexer\u001b[0m\u001b[0;34m)\u001b[0m\u001b[0;34m\u001b[0m\u001b[0;34m\u001b[0m\u001b[0m\n",
      "\u001b[0;31mKeyError\u001b[0m: \"['ba/bs'] not found in axis\""
     ]
    }
   ],
   "source": [
    "copy = copy.drop(columns = ['ai','mysql','ml','master','ma','ms','bachelors','ba','bs','engineering','ba/bs'])"
   ]
  },
  {
   "cell_type": "code",
   "execution_count": null,
   "metadata": {},
   "outputs": [],
   "source": [
    "copy.to_csv('finalclean.csv')"
   ]
  },
  {
   "cell_type": "code",
   "execution_count": null,
   "metadata": {},
   "outputs": [],
   "source": [
    "copy2 = copy.drop(columns = ['bi','linux','tableau','hive','oracle','sas',\n",
    "                            'hive','oracle','perl','matlab','html','tensorflow','spss','mongodb',\n",
    "                            'research','ab testing','web scraping',\n",
    "                            'neural network','interpersonal skills','communication skills',\n",
    "                            'data science','liberal arts','buisness','psychology',\n",
    "                            'biology','medicine','marketing','business analysis',\n",
    "                            'chemical engineering','chemistry','public health','public relationship'])"
   ]
  },
  {
   "cell_type": "code",
   "execution_count": null,
   "metadata": {},
   "outputs": [],
   "source": [
    "list(copy2)[25:60]"
   ]
  },
  {
   "cell_type": "code",
   "execution_count": null,
   "metadata": {},
   "outputs": [],
   "source": [
    "copy2 = copy2.drop(columns = ['aws','hadoop',])"
   ]
  },
  {
   "cell_type": "code",
   "execution_count": null,
   "metadata": {},
   "outputs": [],
   "source": [
    "copy2['machine learning'] += (copy2['deep learning'] + copy2['decision tree'] \n",
    "                              + copy2['logistic'] + copy2['random forest'])"
   ]
  },
  {
   "cell_type": "code",
   "execution_count": null,
   "metadata": {},
   "outputs": [],
   "source": [
    "copy2['data analysis'] += copy2['statistical analysis']"
   ]
  },
  {
   "cell_type": "code",
   "execution_count": null,
   "metadata": {},
   "outputs": [],
   "source": [
    "copy2 = copy2.drop(columns = ['deep learning','decision tree','logistic','random forest'])"
   ]
  },
  {
   "cell_type": "code",
   "execution_count": null,
   "metadata": {},
   "outputs": [],
   "source": [
    "copy2['statistics'] += (copy2['quantitative'] + copy2['mathematics'] + copy2['economics'])"
   ]
  },
  {
   "cell_type": "code",
   "execution_count": null,
   "metadata": {},
   "outputs": [],
   "source": [
    "copy2 = copy2.drop(columns = ['quantitative','mathematics','economics'])"
   ]
  },
  {
   "cell_type": "code",
   "execution_count": null,
   "metadata": {},
   "outputs": [],
   "source": [
    "len(list(copy2))"
   ]
  },
  {
   "cell_type": "code",
   "execution_count": null,
   "metadata": {},
   "outputs": [],
   "source": [
    "copy2 = copy2.drop(columns = ['location','newlocation','city','state'])"
   ]
  },
  {
   "cell_type": "code",
   "execution_count": null,
   "metadata": {},
   "outputs": [],
   "source": [
    "len(list(copy2))"
   ]
  },
  {
   "cell_type": "code",
   "execution_count": null,
   "metadata": {},
   "outputs": [],
   "source": [
    "list(copy2)"
   ]
  },
  {
   "cell_type": "code",
   "execution_count": null,
   "metadata": {},
   "outputs": [],
   "source": [
    "copy2.to_csv('finalfinalclean.csv')"
   ]
  },
  {
   "cell_type": "code",
   "execution_count": null,
   "metadata": {},
   "outputs": [],
   "source": []
  }
 ],
 "metadata": {
  "hide_input": false,
  "kernelspec": {
   "display_name": "Python 3 (ipykernel)",
   "language": "python",
   "name": "python3"
  },
  "language_info": {
   "codemirror_mode": {
    "name": "ipython",
    "version": 3
   },
   "file_extension": ".py",
   "mimetype": "text/x-python",
   "name": "python",
   "nbconvert_exporter": "python",
   "pygments_lexer": "ipython3",
   "version": "3.9.7"
  },
  "toc": {
   "base_numbering": 1,
   "nav_menu": {},
   "number_sections": true,
   "sideBar": true,
   "skip_h1_title": false,
   "title_cell": "Table of Contents",
   "title_sidebar": "Contents",
   "toc_cell": false,
   "toc_position": {},
   "toc_section_display": true,
   "toc_window_display": false
  },
  "varInspector": {
   "cols": {
    "lenName": 16,
    "lenType": 16,
    "lenVar": 40
   },
   "kernels_config": {
    "python": {
     "delete_cmd_postfix": "",
     "delete_cmd_prefix": "del ",
     "library": "var_list.py",
     "varRefreshCmd": "print(var_dic_list())"
    },
    "r": {
     "delete_cmd_postfix": ") ",
     "delete_cmd_prefix": "rm(",
     "library": "var_list.r",
     "varRefreshCmd": "cat(var_dic_list()) "
    }
   },
   "types_to_exclude": [
    "module",
    "function",
    "builtin_function_or_method",
    "instance",
    "_Feature"
   ],
   "window_display": false
  }
 },
 "nbformat": 4,
 "nbformat_minor": 2
}
