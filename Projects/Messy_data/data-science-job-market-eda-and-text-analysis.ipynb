{
 "cells": [
  {
   "cell_type": "markdown",
   "metadata": {},
   "source": [
    "# Data Science Job Market EDA and Text Analysis\n",
    "*By: <a href = 'https://www.linkedin.com/in/hoangvu97/'>Hoang Vu</a>*"
   ]
  },
  {
   "cell_type": "markdown",
   "metadata": {},
   "source": [
    "  "
   ]
  },
  {
   "cell_type": "markdown",
   "metadata": {},
   "source": [
    "## Introduction\n",
    "\n",
    "I'm currently a senior studying business analytics at Drexel University. As the graduation soon approaches, I've been actively looking for job in the analytics field. I wondered if there is a trend on what companies are looking for, what are the requirements, what can I do to make optimize my job search, so I set out to look for data on this subject.\n",
    "\n",
    "Luckily for me, I came across this <a href = 'https://www.kaggle.com/sl6149/data-scientist-job-market-in-the-us'>Kaggle dataset</a> uploaded by ShaShan Lu. He scrapped 7000 job posting from indeed.com with the search term of \"Data Science\". Though the data is collected in 2018, I believe that the insights I get from analyzing this data will still be very beneficial for me to have.\n",
    "\n",
    "I'll approach this data by performing EDA on the general dataset and text analysis on the job description. Any comments, recommendations and advice on this notebook would be much appreciated!"
   ]
  },
  {
   "cell_type": "markdown",
   "metadata": {},
   "source": [
    "*Table of contents*\n",
    "\n",
    "* <a href = '#DataPreparation'>Data Preparation</a>\n",
    "    - <a href = '#cleaning'>Data Cleaning</a>\n",
    "    - <a href = '#newclumn'>Populate New Columns</a>\n",
    "    <br/><br/>\n",
    "* <a href = '#eda'>Exploratory Data Analysis</a>\n",
    "    - <a href = '#title'>Positions by Title</a>\n",
    "    - <a href = '#company'>Positions by Company</a>\n",
    "    - <a href = '#city'>Position by Cities</a>\n",
    "    - <a href = '#state'>Position by State</a>\n",
    "    - <a href = '#statetitle'>Position by State and Job Title</a>\n",
    "    <br/><br/>\n",
    "* <a href = '#textanalysis'>Text Analysis</a>\n",
    "    - <a href = '#textclean'>Text Cleaning and Prep</a>\n",
    "    - <a href = '#wordcloud'>Visualization</a>\n",
    "        - <a href = '#wordcloud'>WordCloud</a>\n",
    "        - <a href = '#experience'>Year of Experience Requirement</a>\n",
    "        - <a href = '#skill'>Skills Requirement</a>\n",
    "        - <a href = '#degree'>Degree Requirement</a>\n",
    "    <br/><br/>\n",
    "* <a href = '#conclution'>Conclusion</a>\n",
    "    "
   ]
  },
  {
   "cell_type": "code",
   "execution_count": 21,
   "metadata": {},
   "outputs": [],
   "source": [
    "import pandas as pd\n",
    "import re\n",
    "import string\n",
    "from wordcloud import WordCloud\n",
    "import matplotlib.pyplot as plt\n",
    "from nltk.tokenize import word_tokenize\n",
    "from nltk.stem import WordNetLemmatizer\n",
    "import numpy as np"
   ]
  },
  {
   "cell_type": "markdown",
   "metadata": {},
   "source": [
    "## Data Preparation<a id='DataPreparation'></a>"
   ]
  },
  {
   "cell_type": "markdown",
   "metadata": {},
   "source": [
    "This data set contains 6953 rows with 5 columns: Position, Company, Job Description, Review, and Location."
   ]
  },
  {
   "cell_type": "code",
   "execution_count": 22,
   "metadata": {},
   "outputs": [
    {
     "data": {
      "text/html": [
       "<div>\n",
       "<style scoped>\n",
       "    .dataframe tbody tr th:only-of-type {\n",
       "        vertical-align: middle;\n",
       "    }\n",
       "\n",
       "    .dataframe tbody tr th {\n",
       "        vertical-align: top;\n",
       "    }\n",
       "\n",
       "    .dataframe thead th {\n",
       "        text-align: right;\n",
       "    }\n",
       "</style>\n",
       "<table border=\"1\" class=\"dataframe\">\n",
       "  <thead>\n",
       "    <tr style=\"text-align: right;\">\n",
       "      <th></th>\n",
       "      <th>position</th>\n",
       "      <th>company</th>\n",
       "      <th>description</th>\n",
       "      <th>reviews</th>\n",
       "      <th>location</th>\n",
       "    </tr>\n",
       "  </thead>\n",
       "  <tbody>\n",
       "    <tr>\n",
       "      <th>0</th>\n",
       "      <td>Development Director</td>\n",
       "      <td>ALS TDI</td>\n",
       "      <td>Development Director\\nALS Therapy Development ...</td>\n",
       "      <td>NaN</td>\n",
       "      <td>Atlanta, GA 30301</td>\n",
       "    </tr>\n",
       "    <tr>\n",
       "      <th>1</th>\n",
       "      <td>An Ostentatiously-Excitable Principal Research...</td>\n",
       "      <td>The Hexagon Lavish</td>\n",
       "      <td>Job Description\\n\\n\"The road that leads to acc...</td>\n",
       "      <td>NaN</td>\n",
       "      <td>Atlanta, GA</td>\n",
       "    </tr>\n",
       "    <tr>\n",
       "      <th>2</th>\n",
       "      <td>Data Scientist</td>\n",
       "      <td>Xpert Staffing</td>\n",
       "      <td>Growing company located in the Atlanta, GA are...</td>\n",
       "      <td>NaN</td>\n",
       "      <td>Atlanta, GA</td>\n",
       "    </tr>\n",
       "    <tr>\n",
       "      <th>3</th>\n",
       "      <td>Data Analyst</td>\n",
       "      <td>Operation HOPE</td>\n",
       "      <td>DEPARTMENT: Program OperationsPOSITION LOCATIO...</td>\n",
       "      <td>44.0</td>\n",
       "      <td>Atlanta, GA 30303</td>\n",
       "    </tr>\n",
       "    <tr>\n",
       "      <th>4</th>\n",
       "      <td>Assistant Professor -TT - Signal Processing &amp; ...</td>\n",
       "      <td>Emory University</td>\n",
       "      <td>DESCRIPTION\\nThe Emory University Department o...</td>\n",
       "      <td>550.0</td>\n",
       "      <td>Atlanta, GA</td>\n",
       "    </tr>\n",
       "    <tr>\n",
       "      <th>...</th>\n",
       "      <td>...</td>\n",
       "      <td>...</td>\n",
       "      <td>...</td>\n",
       "      <td>...</td>\n",
       "      <td>...</td>\n",
       "    </tr>\n",
       "    <tr>\n",
       "      <th>6959</th>\n",
       "      <td>Data Developer / Machine Learning Analyst</td>\n",
       "      <td>NetApp</td>\n",
       "      <td>Are you data-driven? We at NetApp believe in t...</td>\n",
       "      <td>574.0</td>\n",
       "      <td>Sunnyvale, CA</td>\n",
       "    </tr>\n",
       "    <tr>\n",
       "      <th>6960</th>\n",
       "      <td>Scientist I</td>\n",
       "      <td>Pharmacyclics, an Abbvie Company</td>\n",
       "      <td>Pharmacyclics is committed to the development ...</td>\n",
       "      <td>26.0</td>\n",
       "      <td>Sunnyvale, CA</td>\n",
       "    </tr>\n",
       "    <tr>\n",
       "      <th>6961</th>\n",
       "      <td>Intern Scientist</td>\n",
       "      <td>Oath Inc</td>\n",
       "      <td>Oath, a subsidiary of Verizon, is a values-led...</td>\n",
       "      <td>5.0</td>\n",
       "      <td>Sunnyvale, CA</td>\n",
       "    </tr>\n",
       "    <tr>\n",
       "      <th>6962</th>\n",
       "      <td>Senior Data &amp; Applied Scientist</td>\n",
       "      <td>Microsoft</td>\n",
       "      <td>We are the Bing Core Relevance team responsibl...</td>\n",
       "      <td>4618.0</td>\n",
       "      <td>Sunnyvale, CA</td>\n",
       "    </tr>\n",
       "    <tr>\n",
       "      <th>6963</th>\n",
       "      <td>Principal Data Scientist, Deep Learning</td>\n",
       "      <td>Comcast</td>\n",
       "      <td>Comcast’s Technology &amp;amp; Product organizatio...</td>\n",
       "      <td>11610.0</td>\n",
       "      <td>Sunnyvale, CA 94089</td>\n",
       "    </tr>\n",
       "  </tbody>\n",
       "</table>\n",
       "<p>6964 rows × 5 columns</p>\n",
       "</div>"
      ],
      "text/plain": [
       "                                               position  \\\n",
       "0                                  Development Director   \n",
       "1     An Ostentatiously-Excitable Principal Research...   \n",
       "2                                        Data Scientist   \n",
       "3                                          Data Analyst   \n",
       "4     Assistant Professor -TT - Signal Processing & ...   \n",
       "...                                                 ...   \n",
       "6959          Data Developer / Machine Learning Analyst   \n",
       "6960                                        Scientist I   \n",
       "6961                                   Intern Scientist   \n",
       "6962                    Senior Data & Applied Scientist   \n",
       "6963            Principal Data Scientist, Deep Learning   \n",
       "\n",
       "                               company  \\\n",
       "0                              ALS TDI   \n",
       "1                   The Hexagon Lavish   \n",
       "2                       Xpert Staffing   \n",
       "3                       Operation HOPE   \n",
       "4                     Emory University   \n",
       "...                                ...   \n",
       "6959                            NetApp   \n",
       "6960  Pharmacyclics, an Abbvie Company   \n",
       "6961                          Oath Inc   \n",
       "6962                         Microsoft   \n",
       "6963                           Comcast   \n",
       "\n",
       "                                            description  reviews  \\\n",
       "0     Development Director\\nALS Therapy Development ...      NaN   \n",
       "1     Job Description\\n\\n\"The road that leads to acc...      NaN   \n",
       "2     Growing company located in the Atlanta, GA are...      NaN   \n",
       "3     DEPARTMENT: Program OperationsPOSITION LOCATIO...     44.0   \n",
       "4     DESCRIPTION\\nThe Emory University Department o...    550.0   \n",
       "...                                                 ...      ...   \n",
       "6959  Are you data-driven? We at NetApp believe in t...    574.0   \n",
       "6960  Pharmacyclics is committed to the development ...     26.0   \n",
       "6961  Oath, a subsidiary of Verizon, is a values-led...      5.0   \n",
       "6962  We are the Bing Core Relevance team responsibl...   4618.0   \n",
       "6963  Comcast’s Technology &amp; Product organizatio...  11610.0   \n",
       "\n",
       "                 location  \n",
       "0      Atlanta, GA 30301   \n",
       "1             Atlanta, GA  \n",
       "2             Atlanta, GA  \n",
       "3      Atlanta, GA 30303   \n",
       "4             Atlanta, GA  \n",
       "...                   ...  \n",
       "6959        Sunnyvale, CA  \n",
       "6960        Sunnyvale, CA  \n",
       "6961        Sunnyvale, CA  \n",
       "6962        Sunnyvale, CA  \n",
       "6963  Sunnyvale, CA 94089  \n",
       "\n",
       "[6964 rows x 5 columns]"
      ]
     },
     "execution_count": 22,
     "metadata": {},
     "output_type": "execute_result"
    }
   ],
   "source": [
    "# Load and view data\n",
    "df = pd.read_csv('/Users/AFROARC/Documents/GitHub/BCNDATA1021/Projects/Messy_data/Kaggle_Data/alldata.csv')\n",
    "df"
   ]
  },
  {
   "cell_type": "markdown",
   "metadata": {},
   "source": [
    "### Data Cleaning <a id='cleaning'></a>"
   ]
  },
  {
   "cell_type": "markdown",
   "metadata": {},
   "source": [
    "In order to clean the data, I checked for the number of NaNs in each column. Since the Review column has the greatest number of NaNs, I decided to drop it all together since I won't be doing analysis on it. For the rest of the NaNs, I filtered the data frame to leave out all the rows containing null values. "
   ]
  },
  {
   "cell_type": "code",
   "execution_count": 23,
   "metadata": {},
   "outputs": [
    {
     "data": {
      "text/plain": [
       "position         11\n",
       "company          11\n",
       "description      11\n",
       "reviews        1638\n",
       "location         11\n",
       "dtype: int64"
      ]
     },
     "execution_count": 23,
     "metadata": {},
     "output_type": "execute_result"
    }
   ],
   "source": [
    "# Check if there are any NaNs in the data\n",
    "df.isnull().sum()"
   ]
  },
  {
   "cell_type": "code",
   "execution_count": 24,
   "metadata": {},
   "outputs": [],
   "source": [
    "# Drop column Review from the data\n",
    "df.drop(columns = 'reviews', inplace = True)"
   ]
  },
  {
   "cell_type": "code",
   "execution_count": 25,
   "metadata": {},
   "outputs": [
    {
     "data": {
      "text/plain": [
       "position       False\n",
       "company        False\n",
       "description    False\n",
       "location       False\n",
       "dtype: bool"
      ]
     },
     "execution_count": 25,
     "metadata": {},
     "output_type": "execute_result"
    }
   ],
   "source": [
    "# Filtered the data set to remove the rest of the rows containing NaNs value\n",
    "df.drop(index = df[df['position'].isnull()].index, inplace = True)\n",
    "df.isnull().any()"
   ]
  },
  {
   "cell_type": "markdown",
   "metadata": {},
   "source": [
    "### Populate New Columns <a id='newclumn'></a>"
   ]
  },
  {
   "cell_type": "markdown",
   "metadata": {},
   "source": [
    "In order to aggregate the data, I've created City and State columns based on the Location column of the original data set. "
   ]
  },
  {
   "cell_type": "code",
   "execution_count": 26,
   "metadata": {},
   "outputs": [
    {
     "data": {
      "text/html": [
       "<div>\n",
       "<style scoped>\n",
       "    .dataframe tbody tr th:only-of-type {\n",
       "        vertical-align: middle;\n",
       "    }\n",
       "\n",
       "    .dataframe tbody tr th {\n",
       "        vertical-align: top;\n",
       "    }\n",
       "\n",
       "    .dataframe thead th {\n",
       "        text-align: right;\n",
       "    }\n",
       "</style>\n",
       "<table border=\"1\" class=\"dataframe\">\n",
       "  <thead>\n",
       "    <tr style=\"text-align: right;\">\n",
       "      <th></th>\n",
       "      <th>position</th>\n",
       "      <th>company</th>\n",
       "      <th>description</th>\n",
       "      <th>location</th>\n",
       "      <th>city</th>\n",
       "      <th>state</th>\n",
       "    </tr>\n",
       "  </thead>\n",
       "  <tbody>\n",
       "    <tr>\n",
       "      <th>0</th>\n",
       "      <td>Development Director</td>\n",
       "      <td>ALS TDI</td>\n",
       "      <td>Development Director\\nALS Therapy Development ...</td>\n",
       "      <td>Atlanta, GA</td>\n",
       "      <td>Atlanta</td>\n",
       "      <td>GA</td>\n",
       "    </tr>\n",
       "    <tr>\n",
       "      <th>1</th>\n",
       "      <td>An Ostentatiously-Excitable Principal Research...</td>\n",
       "      <td>The Hexagon Lavish</td>\n",
       "      <td>Job Description\\n\\n\"The road that leads to acc...</td>\n",
       "      <td>Atlanta, GA</td>\n",
       "      <td>Atlanta</td>\n",
       "      <td>GA</td>\n",
       "    </tr>\n",
       "    <tr>\n",
       "      <th>2</th>\n",
       "      <td>Data Scientist</td>\n",
       "      <td>Xpert Staffing</td>\n",
       "      <td>Growing company located in the Atlanta, GA are...</td>\n",
       "      <td>Atlanta, GA</td>\n",
       "      <td>Atlanta</td>\n",
       "      <td>GA</td>\n",
       "    </tr>\n",
       "    <tr>\n",
       "      <th>3</th>\n",
       "      <td>Data Analyst</td>\n",
       "      <td>Operation HOPE</td>\n",
       "      <td>DEPARTMENT: Program OperationsPOSITION LOCATIO...</td>\n",
       "      <td>Atlanta, GA</td>\n",
       "      <td>Atlanta</td>\n",
       "      <td>GA</td>\n",
       "    </tr>\n",
       "    <tr>\n",
       "      <th>4</th>\n",
       "      <td>Assistant Professor -TT - Signal Processing &amp; ...</td>\n",
       "      <td>Emory University</td>\n",
       "      <td>DESCRIPTION\\nThe Emory University Department o...</td>\n",
       "      <td>Atlanta, GA</td>\n",
       "      <td>Atlanta</td>\n",
       "      <td>GA</td>\n",
       "    </tr>\n",
       "  </tbody>\n",
       "</table>\n",
       "</div>"
      ],
      "text/plain": [
       "                                            position             company  \\\n",
       "0                               Development Director             ALS TDI   \n",
       "1  An Ostentatiously-Excitable Principal Research...  The Hexagon Lavish   \n",
       "2                                     Data Scientist      Xpert Staffing   \n",
       "3                                       Data Analyst      Operation HOPE   \n",
       "4  Assistant Professor -TT - Signal Processing & ...    Emory University   \n",
       "\n",
       "                                         description     location     city  \\\n",
       "0  Development Director\\nALS Therapy Development ...  Atlanta, GA  Atlanta   \n",
       "1  Job Description\\n\\n\"The road that leads to acc...  Atlanta, GA  Atlanta   \n",
       "2  Growing company located in the Atlanta, GA are...  Atlanta, GA  Atlanta   \n",
       "3  DEPARTMENT: Program OperationsPOSITION LOCATIO...  Atlanta, GA  Atlanta   \n",
       "4  DESCRIPTION\\nThe Emory University Department o...  Atlanta, GA  Atlanta   \n",
       "\n",
       "  state  \n",
       "0    GA  \n",
       "1    GA  \n",
       "2    GA  \n",
       "3    GA  \n",
       "4    GA  "
      ]
     },
     "execution_count": 26,
     "metadata": {},
     "output_type": "execute_result"
    }
   ],
   "source": [
    "# Create city and state columns to better aggregate the data\n",
    "df['location'] = df.location.apply(lambda x: re.sub('\\d*','',str(x)))\n",
    "df['city'] = df.location.apply(lambda x: x.split(',')[0].strip())\n",
    "df['state'] = df.location.apply(lambda x: x.split(',')[1].strip())\n",
    "df['location'] = df['city']+ ', ' + df['state']\n",
    "df.head()"
   ]
  },
  {
   "cell_type": "markdown",
   "metadata": {},
   "source": [
    "## Exporatory Data Analysis<a id='eda'></a>"
   ]
  },
  {
   "cell_type": "markdown",
   "metadata": {},
   "source": [
    "In this section, I'll utilize **pandas** and **matplotlib** to answer the following questions:\n",
    "\n",
    "- What is the is the most common job to appear when searching for 'Data Science'?\n",
    "- Which company hire the most Data Science job?\n",
    "- From the data, which cities and state hire the most?"
   ]
  },
  {
   "cell_type": "markdown",
   "metadata": {},
   "source": [
    "### Positions by Job Title <a id='title'></a>"
   ]
  },
  {
   "cell_type": "markdown",
   "metadata": {},
   "source": [
    "Since position titles are varied from one company to another, the following code block will categorize the titles into 5 groups: Data Scientist, Machine Learning Engineer, Data Analyst, Data Science Manager, and Others.\n",
    "\n",
    "*Note: I want to give credit to Pramod Manjegowda for the following code block. Pramad followed a machine learning approach toward this data set. You can take a look at his notebook <a href ='https://www.kaggle.com/pramod7/data-science-jobs-opening-in-us-analysis-ml'>here</a>.* "
   ]
  },
  {
   "cell_type": "code",
   "execution_count": 31,
   "metadata": {},
   "outputs": [
    {
     "ename": "TypeError",
     "evalue": "'(0       False\n1        True\n2        True\n3       False\n4       False\n        ...  \n6959    False\n6960     True\n6961     True\n6962     True\n6963     True\nName: position, Length: 6953, dtype: bool, 0       False\n1       False\n2       False\n3        True\n4       False\n        ...  \n6959    False\n6960    False\n6961    False\n6962    False\n6963    False\nName: position, Length: 6953, dtype: bool, 0       False\n1       False\n2       False\n3       False\n4       False\n        ...  \n6959     True\n6960    False\n6961    False\n6962    False\n6963    False\nName: position, Length: 6953, dtype: bool, 0        True\n1       False\n2       False\n3       False\n4       False\n        ...  \n6959    False\n6960    False\n6961    False\n6962    False\n6963    False\nName: position, Length: 6953, dtype: bool)' is an invalid key",
     "output_type": "error",
     "traceback": [
      "\u001b[0;31m---------------------------------------------------------------------------\u001b[0m",
      "\u001b[0;31mTypeError\u001b[0m                                 Traceback (most recent call last)",
      "\u001b[0;32m/var/folders/ry/12f_c8qd1kd7vb7q_tgpq9jh0000gn/T/ipykernel_8177/1452760896.py\u001b[0m in \u001b[0;36m<module>\u001b[0;34m\u001b[0m\n\u001b[1;32m     17\u001b[0m \u001b[0mdata\u001b[0m\u001b[0;34m.\u001b[0m\u001b[0mloc\u001b[0m\u001b[0;34m[\u001b[0m\u001b[0mdata\u001b[0m\u001b[0;34m.\u001b[0m\u001b[0mposition\u001b[0m\u001b[0;34m.\u001b[0m\u001b[0mstr\u001b[0m\u001b[0;34m.\u001b[0m\u001b[0mcontains\u001b[0m\u001b[0;34m(\u001b[0m\u001b[0;34m'DIRECTOR'\u001b[0m\u001b[0;34m)\u001b[0m\u001b[0;34m,\u001b[0m\u001b[0;34m'position'\u001b[0m\u001b[0;34m]\u001b[0m\u001b[0;34m=\u001b[0m\u001b[0;34m'Data Science Manager'\u001b[0m\u001b[0;34m\u001b[0m\u001b[0;34m\u001b[0m\u001b[0m\n\u001b[1;32m     18\u001b[0m \u001b[0;34m\u001b[0m\u001b[0m\n\u001b[0;32m---> 19\u001b[0;31m \u001b[0mdata\u001b[0m\u001b[0;34m.\u001b[0m\u001b[0mposition\u001b[0m\u001b[0;34m=\u001b[0m\u001b[0mdata\u001b[0m\u001b[0;34m[\u001b[0m\u001b[0;34m(\u001b[0m\u001b[0mdata\u001b[0m\u001b[0;34m.\u001b[0m\u001b[0mposition\u001b[0m \u001b[0;34m==\u001b[0m \u001b[0;34m'Data Scientist'\u001b[0m\u001b[0;34m)\u001b[0m \u001b[0;34m,\u001b[0m \u001b[0;34m(\u001b[0m\u001b[0mdata\u001b[0m\u001b[0;34m.\u001b[0m\u001b[0mposition\u001b[0m \u001b[0;34m==\u001b[0m \u001b[0;34m'Data Analyst'\u001b[0m\u001b[0;34m)\u001b[0m \u001b[0;34m,\u001b[0m \u001b[0;34m(\u001b[0m\u001b[0mdata\u001b[0m\u001b[0;34m.\u001b[0m\u001b[0mposition\u001b[0m \u001b[0;34m==\u001b[0m \u001b[0;34m'Machine Learning Engineer'\u001b[0m\u001b[0;34m)\u001b[0m \u001b[0;34m,\u001b[0m \u001b[0;34m(\u001b[0m\u001b[0mdata\u001b[0m\u001b[0;34m.\u001b[0m\u001b[0mposition\u001b[0m \u001b[0;34m==\u001b[0m \u001b[0;34m'Data Science Manager'\u001b[0m\u001b[0;34m)\u001b[0m\u001b[0;34m]\u001b[0m\u001b[0;34m\u001b[0m\u001b[0;34m\u001b[0m\u001b[0m\n\u001b[0m\u001b[1;32m     20\u001b[0m \u001b[0mdata\u001b[0m\u001b[0;34m.\u001b[0m\u001b[0mposition\u001b[0m\u001b[0;34m=\u001b[0m\u001b[0;34m[\u001b[0m\u001b[0;34m'Others'\u001b[0m \u001b[0;32mif\u001b[0m \u001b[0mx\u001b[0m \u001b[0;32mis\u001b[0m \u001b[0mnp\u001b[0m\u001b[0;34m.\u001b[0m\u001b[0mnan\u001b[0m \u001b[0;32melse\u001b[0m \u001b[0mx\u001b[0m \u001b[0;32mfor\u001b[0m \u001b[0mx\u001b[0m \u001b[0;32min\u001b[0m \u001b[0mdata\u001b[0m\u001b[0;34m.\u001b[0m\u001b[0mposition\u001b[0m\u001b[0;34m]\u001b[0m\u001b[0;34m\u001b[0m\u001b[0;34m\u001b[0m\u001b[0m\n",
      "\u001b[0;32m/opt/anaconda3/envs/classenv/lib/python3.9/site-packages/pandas/core/frame.py\u001b[0m in \u001b[0;36m__getitem__\u001b[0;34m(self, key)\u001b[0m\n\u001b[1;32m   3456\u001b[0m             \u001b[0;32mif\u001b[0m \u001b[0mself\u001b[0m\u001b[0;34m.\u001b[0m\u001b[0mcolumns\u001b[0m\u001b[0;34m.\u001b[0m\u001b[0mnlevels\u001b[0m \u001b[0;34m>\u001b[0m \u001b[0;36m1\u001b[0m\u001b[0;34m:\u001b[0m\u001b[0;34m\u001b[0m\u001b[0;34m\u001b[0m\u001b[0m\n\u001b[1;32m   3457\u001b[0m                 \u001b[0;32mreturn\u001b[0m \u001b[0mself\u001b[0m\u001b[0;34m.\u001b[0m\u001b[0m_getitem_multilevel\u001b[0m\u001b[0;34m(\u001b[0m\u001b[0mkey\u001b[0m\u001b[0;34m)\u001b[0m\u001b[0;34m\u001b[0m\u001b[0;34m\u001b[0m\u001b[0m\n\u001b[0;32m-> 3458\u001b[0;31m             \u001b[0mindexer\u001b[0m \u001b[0;34m=\u001b[0m \u001b[0mself\u001b[0m\u001b[0;34m.\u001b[0m\u001b[0mcolumns\u001b[0m\u001b[0;34m.\u001b[0m\u001b[0mget_loc\u001b[0m\u001b[0;34m(\u001b[0m\u001b[0mkey\u001b[0m\u001b[0;34m)\u001b[0m\u001b[0;34m\u001b[0m\u001b[0;34m\u001b[0m\u001b[0m\n\u001b[0m\u001b[1;32m   3459\u001b[0m             \u001b[0;32mif\u001b[0m \u001b[0mis_integer\u001b[0m\u001b[0;34m(\u001b[0m\u001b[0mindexer\u001b[0m\u001b[0;34m)\u001b[0m\u001b[0;34m:\u001b[0m\u001b[0;34m\u001b[0m\u001b[0;34m\u001b[0m\u001b[0m\n\u001b[1;32m   3460\u001b[0m                 \u001b[0mindexer\u001b[0m \u001b[0;34m=\u001b[0m \u001b[0;34m[\u001b[0m\u001b[0mindexer\u001b[0m\u001b[0;34m]\u001b[0m\u001b[0;34m\u001b[0m\u001b[0;34m\u001b[0m\u001b[0m\n",
      "\u001b[0;32m/opt/anaconda3/envs/classenv/lib/python3.9/site-packages/pandas/core/indexes/base.py\u001b[0m in \u001b[0;36mget_loc\u001b[0;34m(self, key, method, tolerance)\u001b[0m\n\u001b[1;32m   3359\u001b[0m             \u001b[0mcasted_key\u001b[0m \u001b[0;34m=\u001b[0m \u001b[0mself\u001b[0m\u001b[0;34m.\u001b[0m\u001b[0m_maybe_cast_indexer\u001b[0m\u001b[0;34m(\u001b[0m\u001b[0mkey\u001b[0m\u001b[0;34m)\u001b[0m\u001b[0;34m\u001b[0m\u001b[0;34m\u001b[0m\u001b[0m\n\u001b[1;32m   3360\u001b[0m             \u001b[0;32mtry\u001b[0m\u001b[0;34m:\u001b[0m\u001b[0;34m\u001b[0m\u001b[0;34m\u001b[0m\u001b[0m\n\u001b[0;32m-> 3361\u001b[0;31m                 \u001b[0;32mreturn\u001b[0m \u001b[0mself\u001b[0m\u001b[0;34m.\u001b[0m\u001b[0m_engine\u001b[0m\u001b[0;34m.\u001b[0m\u001b[0mget_loc\u001b[0m\u001b[0;34m(\u001b[0m\u001b[0mcasted_key\u001b[0m\u001b[0;34m)\u001b[0m\u001b[0;34m\u001b[0m\u001b[0;34m\u001b[0m\u001b[0m\n\u001b[0m\u001b[1;32m   3362\u001b[0m             \u001b[0;32mexcept\u001b[0m \u001b[0mKeyError\u001b[0m \u001b[0;32mas\u001b[0m \u001b[0merr\u001b[0m\u001b[0;34m:\u001b[0m\u001b[0;34m\u001b[0m\u001b[0;34m\u001b[0m\u001b[0m\n\u001b[1;32m   3363\u001b[0m                 \u001b[0;32mraise\u001b[0m \u001b[0mKeyError\u001b[0m\u001b[0;34m(\u001b[0m\u001b[0mkey\u001b[0m\u001b[0;34m)\u001b[0m \u001b[0;32mfrom\u001b[0m \u001b[0merr\u001b[0m\u001b[0;34m\u001b[0m\u001b[0;34m\u001b[0m\u001b[0m\n",
      "\u001b[0;32m/opt/anaconda3/envs/classenv/lib/python3.9/site-packages/pandas/_libs/index.pyx\u001b[0m in \u001b[0;36mpandas._libs.index.IndexEngine.get_loc\u001b[0;34m()\u001b[0m\n",
      "\u001b[0;32m/opt/anaconda3/envs/classenv/lib/python3.9/site-packages/pandas/_libs/index.pyx\u001b[0m in \u001b[0;36mpandas._libs.index.IndexEngine.get_loc\u001b[0;34m()\u001b[0m\n",
      "\u001b[0;31mTypeError\u001b[0m: '(0       False\n1        True\n2        True\n3       False\n4       False\n        ...  \n6959    False\n6960     True\n6961     True\n6962     True\n6963     True\nName: position, Length: 6953, dtype: bool, 0       False\n1       False\n2       False\n3        True\n4       False\n        ...  \n6959    False\n6960    False\n6961    False\n6962    False\n6963    False\nName: position, Length: 6953, dtype: bool, 0       False\n1       False\n2       False\n3       False\n4       False\n        ...  \n6959     True\n6960    False\n6961    False\n6962    False\n6963    False\nName: position, Length: 6953, dtype: bool, 0        True\n1       False\n2       False\n3       False\n4       False\n        ...  \n6959    False\n6960    False\n6961    False\n6962    False\n6963    False\nName: position, Length: 6953, dtype: bool)' is an invalid key"
     ]
    }
   ],
   "source": [
    "# Group position name into 5 types\n",
    "data = df.copy()\n",
    "data['position']=[x.upper() for x in data['position']]\n",
    "data.loc[data.position.str.contains(\"SCIENTIST\"), 'position'] = 'Data Scientist'\n",
    "\n",
    "data.loc[data.position.str.contains('ENGINEER'),'position']='Machine Learning Engineer'\n",
    "data.loc[data.position.str.contains('PRINCIPAL STATISTICAL PROGRAMMER'),'position']='Machine Learning Engineer'\n",
    "data.loc[data.position.str.contains('PROGRAMMER'),'position']='Machine Learning Engineer'\n",
    "data.loc[data.position.str.contains('DEVELOPER'),'position']='Machine Learning Engineer'\n",
    "\n",
    "data.loc[data.position.str.contains('ANALYST'), 'position'] = 'Data Analyst'\n",
    "data.loc[data.position.str.contains('STATISTICIAN'), 'position'] = 'Data Analyst'\n",
    "\n",
    "data.loc[data.position.str.contains('MANAGER'),'position']='Data Science Manager'\n",
    "data.loc[data.position.str.contains('CONSULTANT'),'position']='Data Science Manager'\n",
    "data.loc[data.position.str.contains('DATA SCIENCE'),'position']='Data Science Manager'\n",
    "data.loc[data.position.str.contains('DIRECTOR'),'position']='Data Science Manager'\n",
    "\n",
    "data.position=data[(data.position == 'Data Scientist') , (data.position == 'Data Analyst') , (data.position == 'Machine Learning Engineer') , (data.position == 'Data Science Manager')]\n",
    "data.position=['Others' if x is np.nan else x for x in data.position]"
   ]
  },
  {
   "cell_type": "code",
   "execution_count": 32,
   "metadata": {
    "scrolled": true
   },
   "outputs": [
    {
     "data": {
      "image/png": "[encoded data removed]",
      "text/plain": [
       "<Figure size 720x360 with 1 Axes>"
      ]
     },
     "metadata": {
      "needs_background": "light"
     },
     "output_type": "display_data"
    }
   ],
   "source": [
    "title = data.groupby(['position']).count().sort_values('company')\n",
    "\n",
    "title['company'].plot(kind='barh',figsize = (10,5))\n",
    "plt.xlabel('Count', size = 12)\n",
    "plt.ylabel('')\n",
    "plt.yticks(size = 10)\n",
    "plt.xticks(size = 10)\n",
    "plt.title('Number of Positions by Job Title', size = 20)\n",
    "plt.show()\n"
   ]
  },
  {
   "cell_type": "markdown",
   "metadata": {},
   "source": [
    "### Positions by Companies <a id='company'></a>"
   ]
  },
  {
   "cell_type": "code",
   "execution_count": null,
   "metadata": {
    "scrolled": true
   },
   "outputs": [],
   "source": [
    "company = df.groupby(['company']).count().sort_values('position').tail(20)\n",
    "\n",
    "company['position'].plot(kind='barh',figsize = (10,5))\n",
    "plt.xlabel('Count', size = 12)\n",
    "plt.ylabel('')\n",
    "plt.yticks(size = 10)\n",
    "plt.xticks(size = 10)\n",
    "plt.title('Number of Positions by Companies (Top 20)', size = 20)\n",
    "plt.show()"
   ]
  },
  {
   "cell_type": "markdown",
   "metadata": {},
   "source": [
    "From the chart, we can see that Amazon.com hire the most candidate, follow by Ball Aerospace, Microsoft and Google. "
   ]
  },
  {
   "cell_type": "markdown",
   "metadata": {},
   "source": [
    "### Positions by Cities <a id='city'></a>"
   ]
  },
  {
   "cell_type": "code",
   "execution_count": null,
   "metadata": {
    "scrolled": true
   },
   "outputs": [],
   "source": [
    "city = df.groupby(['location']).count().sort_values('position').tail(20)\n",
    "\n",
    "city['position'].plot(kind='barh',figsize = (10,5))\n",
    "plt.xlabel('Count', size = 12)\n",
    "plt.ylabel('')\n",
    "plt.yticks(size = 10)\n",
    "plt.xticks(size = 10)\n",
    "plt.title('Number of Positions by Cities (Top 20)', size = 20)\n",
    "plt.show()"
   ]
  },
  {
   "cell_type": "markdown",
   "metadata": {},
   "source": [
    "It appears that the top 5 cities that hire the most data science related job are New York, Seattle, Cambridge, Boston, and San Francisco. It makes sense since those cities are the technology hub of the country. "
   ]
  },
  {
   "cell_type": "markdown",
   "metadata": {},
   "source": [
    "### Positions by States <a id='state'></a>"
   ]
  },
  {
   "cell_type": "code",
   "execution_count": null,
   "metadata": {
    "scrolled": false
   },
   "outputs": [],
   "source": [
    "state = df.groupby('state').count().sort_values('position',ascending = False)\n",
    "\n",
    "state['position'].plot(kind = 'bar',figsize = (10,5) ,width = 0.85)\n",
    "plt.xlabel('')\n",
    "plt.ylabel('Count',size = 12)\n",
    "plt.title('Number of Positions by State', size = 20)\n",
    "plt.yticks(size = 10)\n",
    "plt.xticks(size = 10, rotation = 720)\n",
    "plt.show()"
   ]
  },
  {
   "cell_type": "markdown",
   "metadata": {},
   "source": [
    "Even though the city with the highest number of positions is New York, the highest number of position by state is California, follows by Massachusetts and Washington. "
   ]
  },
  {
   "cell_type": "markdown",
   "metadata": {},
   "source": [
    "### Position by State and Job Title <a id='statetitle'></a>"
   ]
  },
  {
   "cell_type": "code",
   "execution_count": null,
   "metadata": {
    "scrolled": false
   },
   "outputs": [],
   "source": [
    "data = data[data['position'] != 'Others']\n",
    "i = 1\n",
    "color = ['#A92420','#8A6FDF','#135390','#FDA649']\n",
    "fig = plt.figure(figsize=(20,10))\n",
    "for position in data.position.unique():\n",
    "    x = data[data['position']== str(position)].groupby(['state']).count().sort_values('company')\n",
    "    plt.subplot(2, 2, i)\n",
    "    i += 1\n",
    "    plt.bar(x.index,x['company'], color = color[i-2])\n",
    "    plt.xlabel('')\n",
    "    plt.xticks(size = 10)\n",
    "    plt.title(str(position), size = 15)\n",
    "plt.show()"
   ]
  },
  {
   "cell_type": "markdown",
   "metadata": {},
   "source": [
    "- For Data Science Manager, Data Scientist and Machine Learning Engineer, California is the state that hire the most position\n",
    "- For Data Analyst, it seems that New York hires the most position, follow closely by California"
   ]
  },
  {
   "cell_type": "markdown",
   "metadata": {},
   "source": [
    "## Text Analysis <a id='textanalysis'></a>"
   ]
  },
  {
   "cell_type": "markdown",
   "metadata": {},
   "source": [
    "In this section, I will focus on the Job Description column of the data. By using libraries like **re, wordcloud, matplotlib**, I hope to gain further insights on the requirements for the field of data science. I will try to answer the following questions:\n",
    "- What are the companies looking for when hiring?\n",
    "- How many years of experience do they required?\n",
    "- What level of education do the companies prefer?"
   ]
  },
  {
   "cell_type": "code",
   "execution_count": null,
   "metadata": {},
   "outputs": [],
   "source": [
    "# Example of a description value\n",
    "df.description.values[0][0:int(len(df.description.values[0])/2)]"
   ]
  },
  {
   "cell_type": "markdown",
   "metadata": {},
   "source": [
    "### Text Cleaning and Prepration <a id='textclean'></a>"
   ]
  },
  {
   "cell_type": "code",
   "execution_count": null,
   "metadata": {},
   "outputs": [],
   "source": [
    "# Combine the desciptions by the job tilte\n",
    "data = data.groupby('position').agg(lambda col: ' '.join(col))\n",
    "data = data[['description']]"
   ]
  },
  {
   "cell_type": "code",
   "execution_count": null,
   "metadata": {},
   "outputs": [],
   "source": [
    "# Create a function to clean text data\n",
    "def clean_text(text):\n",
    "    text = re.sub('[%s]' % re.escape(string.punctuation), '', text).lower() #remove punctutations\n",
    "    text = re.sub('\\w*\\d\\w*', '', text)\n",
    "    text = re.sub('[‘’“”…]', '', text)\n",
    "    text = re.sub('\\n',' ',text)\n",
    "    return text"
   ]
  },
  {
   "cell_type": "code",
   "execution_count": null,
   "metadata": {},
   "outputs": [],
   "source": [
    "# Clean the text data and remove the job title 'Others'\n",
    "clean = lambda x :clean_text(x)\n",
    "df_clean = pd.DataFrame(data.description.apply(clean))\n",
    "df_clean = df_clean[df_clean.index != 'Others'].copy()"
   ]
  },
  {
   "cell_type": "code",
   "execution_count": null,
   "metadata": {},
   "outputs": [],
   "source": [
    "# Lemmentize the text data to improve analysis\n",
    "lemmer = WordNetLemmatizer()\n",
    "df_clean['description'] = df_clean.description.apply(lambda x: word_tokenize(x))\n",
    "df_clean['description'] = df_clean.description.apply(lambda x : [lemmer.lemmatize(y) for y in x])\n",
    "df_clean['description'] = df_clean.description.apply(lambda x: ' '.join(x))"
   ]
  },
  {
   "cell_type": "code",
   "execution_count": null,
   "metadata": {},
   "outputs": [],
   "source": [
    "# Add words that frequently appear in the descriptions but carry no value to the list of stop words\n",
    "from sklearn.feature_extraction import text\n",
    "extra_stopword = ['data','experience','work','team','will','skill','year','skills']\n",
    "stop_words = text.ENGLISH_STOP_WORDS.union(extra_stopword)"
   ]
  },
  {
   "cell_type": "markdown",
   "metadata": {},
   "source": [
    "### Word Cloud <a id='wordcloud'></a>"
   ]
  },
  {
   "cell_type": "code",
   "execution_count": null,
   "metadata": {
    "scrolled": false
   },
   "outputs": [],
   "source": [
    "from wordcloud import WordCloud\n",
    "\n",
    "wc = WordCloud(stopwords=stop_words, background_color=\"white\", colormap=\"Dark2\",\n",
    "             random_state=42, collocations = False, width=1600, height=800)\n",
    "i = 0\n",
    "fig = plt.figure(figsize=(15,8))\n",
    "for x in df_clean.description.index:\n",
    "    wc.generate(df_clean.description[str(x)])\n",
    "    \n",
    "    i += 1\n",
    "    fig.add_subplot(2, 2, i)\n",
    "    plt.imshow(wc, interpolation=\"bilinear\")\n",
    "    plt.axis(\"off\")\n",
    "    plt.title(str(x), size = 15)\n",
    "plt.show()"
   ]
  },
  {
   "cell_type": "markdown",
   "metadata": {},
   "source": [
    "Here are my interpretations from looking at the WordCloud:\n",
    "- Data Analyst will be doing **research**, **analysis** and **provide** insights to facilitate better **business** decision.\n",
    "- Data Science Manager will be in charge of **developing** **product** to help **business** serve its **customer** better.\n",
    "- Data Scientist will be doing **research**, implementing **machine learning** and building **model** to come up with business solution.\n",
    "- Machine Learning Engineer will **design** and **develop** **software** for business or customer. "
   ]
  },
  {
   "cell_type": "markdown",
   "metadata": {},
   "source": [
    "### Year of Experience Required <a id='experience'></a>"
   ]
  },
  {
   "cell_type": "markdown",
   "metadata": {},
   "source": [
    "In the following section, I will utilize regular expression to search and locate text strings with in a document.\n",
    "\n",
    "*Note: I'm still a novice with regex so any recommendation on how to improve my matches will be very much appreciated!*"
   ]
  },
  {
   "cell_type": "code",
   "execution_count": null,
   "metadata": {},
   "outputs": [],
   "source": [
    "text = df.description.values"
   ]
  },
  {
   "cell_type": "code",
   "execution_count": null,
   "metadata": {},
   "outputs": [],
   "source": [
    "# Print out the first 5 examples of matches\n",
    "limit = 0\n",
    "for t in text:\n",
    "    for sentance in t.split('\\n'):\n",
    "        if 'experience' in sentance:\n",
    "            year = re.findall(\"\\d{1,2}\\+? year\", sentance)\n",
    "            if len(year)==1:\n",
    "                print(year[0])\n",
    "                print(sentance)\n",
    "                print(\"*\"*20)\n",
    "                limit +=1\n",
    "    if limit >= 5:\n",
    "        break"
   ]
  },
  {
   "cell_type": "code",
   "execution_count": null,
   "metadata": {},
   "outputs": [],
   "source": [
    "# Compile the year value found into a list\n",
    "experience_req = []\n",
    "for t in text:\n",
    "    for sentance in t.split('\\n'):\n",
    "        if 'experience' in sentance:\n",
    "            year = re.findall(\"\\d{1,2}\\+? year\", sentance)\n",
    "            if len(year)==1:\n",
    "                num = year[0].split(' ')\n",
    "                experience_req.append(num[0])"
   ]
  },
  {
   "cell_type": "code",
   "execution_count": null,
   "metadata": {},
   "outputs": [],
   "source": [
    "# Remove the '+' sign after year value\n",
    "for n,i in enumerate(experience_req):\n",
    "    if \"+\" in i:\n",
    "        experience_req[n] = re.sub(r'\\+','',i)\n",
    "experience_req = [int(item) for item in experience_req]"
   ]
  },
  {
   "cell_type": "code",
   "execution_count": null,
   "metadata": {},
   "outputs": [],
   "source": [
    "# Remove outliers\n",
    "for n,i in enumerate(experience_req):\n",
    "    if i >= 20:\n",
    "        experience_req.pop(n)"
   ]
  },
  {
   "cell_type": "code",
   "execution_count": null,
   "metadata": {},
   "outputs": [],
   "source": [
    "plt.figure(figsize = (10,5))\n",
    "plt.hist(experience_req,bins = list(range(0,21,2)), align = 'left')\n",
    "plt.title('Experience Required Distribution', size = 15)\n",
    "plt.ylabel('Bin Count')\n",
    "plt.xlabel('Year of Expereience', size = 12)\n",
    "plt.show()\n",
    "print(f'The average year of experience required is {round(np.mean(experience_req),2)} years')"
   ]
  },
  {
   "cell_type": "markdown",
   "metadata": {},
   "source": [
    "### Skill Requirement <a id='skill'></a>"
   ]
  },
  {
   "cell_type": "code",
   "execution_count": null,
   "metadata": {},
   "outputs": [],
   "source": [
    "# Create a regex search function\n",
    "def count_text(patt,text):\n",
    "    pattern = re.compile(patt)\n",
    "    count = 0\n",
    "    for t in text:\n",
    "        if pattern.search(t):\n",
    "            count+=1\n",
    "    return count"
   ]
  },
  {
   "cell_type": "code",
   "execution_count": null,
   "metadata": {},
   "outputs": [],
   "source": [
    "# Create a data frame with skills name and regex pattern to search with\n",
    "skills = ['R','Python','Hadoop','SQL','Tableau','TensorFlow','Agile','Power BI','SSaS','Algorithm','Java','Visualization']\n",
    "\n",
    "skill_patt = ['\\WR\\W+\\s*','(?i)\\WPython\\W','(?i)\\WHadoop\\W?','(?i)SQL\\w*','(?i)\\WTableau\\W?',\n",
    "              \"(?i)\\WTensorFlow\\W?\",\"(?i)\\WAgile\\W?\",\"(?i)\\WPower\\s?BI\\W?\",\n",
    "             \"(?i)\\WSSAS\\W?\",\"(?i)\\WAlgorithms?\\W?\",'(?i)Java\\w*','(?i)\\WVisualization\\W?']\n",
    "\n",
    "skill_df =pd.DataFrame(\n",
    "    {\"skill\": skills,\n",
    "     \"regex_pattern\":skill_patt})"
   ]
  },
  {
   "cell_type": "code",
   "execution_count": null,
   "metadata": {},
   "outputs": [],
   "source": [
    "# Iterate through the list of skill using the search function created\n",
    "i = []\n",
    "for x in skill_df['regex_pattern']:\n",
    "    i.append(count_text(x,text))\n",
    "skill_df['count'] = i\n",
    "skill_df['ptg'] = round(skill_df['count']/len(text),2)\n",
    "skill_df"
   ]
  },
  {
   "cell_type": "code",
   "execution_count": null,
   "metadata": {},
   "outputs": [],
   "source": [
    "x = skill_df.sort_values(by = 'ptg')\n",
    "ax =x['ptg'].plot(kind = \"barh\",figsize = (10,5))\n",
    "ax.set_title('Skills as Percentage of Total Job Description', size = 15)\n",
    "ax.set_yticklabels(x['skill'], size = 12)\n",
    "ax.set_xticklabels(['{:.0%}'.format(x) for x in ax.get_xticks()])\n",
    "plt.show()"
   ]
  },
  {
   "cell_type": "markdown",
   "metadata": {},
   "source": [
    "### Degree Requirement <a id='degree'></a>"
   ]
  },
  {
   "cell_type": "code",
   "execution_count": null,
   "metadata": {},
   "outputs": [],
   "source": [
    "# Define regex pattern and seach for PhD\n",
    "pattern = re.compile('(?i)\\WPh.?D\\W')\n",
    "pattern2 = re.compile('(?i)\\WDoctorate\\W')\n",
    "count = 0\n",
    "for t in text:\n",
    "    if pattern.search(t):\n",
    "        count +=1\n",
    "    elif pattern2.search(t):\n",
    "        count +=1\n",
    "degree = {\"PhD\": count}"
   ]
  },
  {
   "cell_type": "code",
   "execution_count": null,
   "metadata": {},
   "outputs": [],
   "source": [
    "# Define regex pattern and seach for Master \n",
    "pattern = re.compile(\"(?i)\\WMasters?'?s?\\W\")\n",
    "pattern2 = re.compile('(?i)\\WM.?S\\W')\n",
    "count = 0\n",
    "for t in text:\n",
    "    if pattern.search(t):\n",
    "        count +=1\n",
    "    elif pattern2.search(t):\n",
    "        count +=1\n",
    "degree.update({\"Master\":count})"
   ]
  },
  {
   "cell_type": "code",
   "execution_count": null,
   "metadata": {},
   "outputs": [],
   "source": [
    "degree = pd.DataFrame.from_dict(degree,orient='index',\n",
    "                       columns=[ 'count'])\n",
    "degree['ptg'] = degree['count']/len(text)"
   ]
  },
  {
   "cell_type": "code",
   "execution_count": null,
   "metadata": {},
   "outputs": [],
   "source": [
    "ax =degree['ptg'].plot(kind = \"bar\", figsize =(10,5))\n",
    "ax.set_title('Percentage of Total Documents')\n",
    "ax.set_xticklabels(degree.index)\n",
    "ax.set_yticklabels(['{:.0%}'.format(x) for x in ax.get_yticks()])\n",
    "plt.show()"
   ]
  },
  {
   "cell_type": "markdown",
   "metadata": {},
   "source": [
    "## Conclution <a id='conclution'></a>"
   ]
  },
  {
   "cell_type": "markdown",
   "metadata": {},
   "source": [
    "This project provided me with valuable insights on what the companies are looking for in a data science candidate. There are a few things I wish to improve especially in the text analysis portion. I hope to learn more on how to better use regular expression so I can get a better precision on my matches.\n",
    "\n",
    "As a senior looking to break into data science and pursue a career as a Data Analyst, this are the key takeaways:\n",
    "- To improve my chances, I should be looking into jobs in NY, CA, MA, and WA. Especially in the cities of New York, Seattle, Boston, and San Fran.\n",
    "- Since I already have some knowledge of Python, R and SQL, I should continue to improve these skills find a way to showcase my knowledge.\n",
    "- I should really consider going for a Master's degree since a lot of job prefer a candidate with one.\n",
    "- The average work experience required is 4-5 years, so I need to find an entry level analyst and do more project to satisfy this requirement.\n",
    "\n",
    "Thank you for going through my notebook! I hope you found some of these findings useful or at least somewhat interesting.\n",
    "\n",
    "Feel free to connect with me through my https://www.linkedin.com/in/hoangvu97/ or send me an email at tronghoang97@gmail.com "
   ]
  },
  {
   "cell_type": "code",
   "execution_count": null,
   "metadata": {},
   "outputs": [],
   "source": []
  }
 ],
 "metadata": {
  "hide_input": false,
  "kernelspec": {
   "display_name": "Python 3 (ipykernel)",
   "language": "python",
   "name": "python3"
  },
  "language_info": {
   "codemirror_mode": {
    "name": "ipython",
    "version": 3
   },
   "file_extension": ".py",
   "mimetype": "text/x-python",
   "name": "python",
   "nbconvert_exporter": "python",
   "pygments_lexer": "ipython3",
   "version": "3.9.7"
  },
  "toc": {
   "base_numbering": 1,
   "nav_menu": {},
   "number_sections": true,
   "sideBar": true,
   "skip_h1_title": false,
   "title_cell": "Table of Contents",
   "title_sidebar": "Contents",
   "toc_cell": false,
   "toc_position": {},
   "toc_section_display": true,
   "toc_window_display": false
  },
  "varInspector": {
   "cols": {
    "lenName": 16,
    "lenType": 16,
    "lenVar": 40
   },
   "kernels_config": {
    "python": {
     "delete_cmd_postfix": "",
     "delete_cmd_prefix": "del ",
     "library": "var_list.py",
     "varRefreshCmd": "print(var_dic_list())"
    },
    "r": {
     "delete_cmd_postfix": ") ",
     "delete_cmd_prefix": "rm(",
     "library": "var_list.r",
     "varRefreshCmd": "cat(var_dic_list()) "
    }
   },
   "types_to_exclude": [
    "module",
    "function",
    "builtin_function_or_method",
    "instance",
    "_Feature"
   ],
   "window_display": false
  }
 },
 "nbformat": 4,
 "nbformat_minor": 4
}
